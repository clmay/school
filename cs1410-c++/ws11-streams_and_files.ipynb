{
 "cells": [
  {
   "cell_type": "markdown",
   "metadata": {},
   "source": [
    "# Streams and Files\n",
    "\n",
    "A stream is a flow of data into or out of a program. It is a metaphor to help visualize data produced by and/or consumed by a program. When data flows into a program we call that an input stream and when data flows out of a program we call it an output stream. \n",
    "\n",
    "Streams are ubiquitous in C++ and we have been using them since the very beginning with our use of `cout`  which is an output stream  `cin` which is an input stream  \n",
    "\n",
    "In addition to the standard output stream `cout`, C++ has a standard error stream named `cerr`, which is used to report errors. Compare the following two output messages: one using `cout` and the other using `cerr`."
   ]
  },
  {
   "cell_type": "code",
   "execution_count": 1,
   "metadata": {},
   "outputs": [],
   "source": [
    "#include <iostream>\n",
    "#include <iomanip>\n",
    "#include <string>\n",
    "#include <cmath>\n",
    "using namespace std;"
   ]
  },
  {
   "cell_type": "code",
   "execution_count": 2,
   "metadata": {},
   "outputs": [
    {
     "name": "stdout",
     "output_type": "stream",
     "text": [
      "Welcome to C++"
     ]
    },
    {
     "name": "stderr",
     "output_type": "stream",
     "text": [
      "An error has happened"
     ]
    }
   ],
   "source": [
    "cout << \"Welcome to C++\";\n",
    "cerr << \"An error has happened\";"
   ]
  },
  {
   "cell_type": "markdown",
   "metadata": {},
   "source": [
    "Here is the hierarchy of the most popular streams in C++. \n",
    "\n",
    "```text\n",
    "                   ios_base\n",
    "                      △\n",
    "                      |\n",
    "                      |\n",
    "        +----------▷ ios ◁------------+    \n",
    "        |                              |\n",
    "        |                              |\n",
    "     istream ◁------+    +------▷ ostream \n",
    "        △           \\   /             △\n",
    "        |            \\  /              |\n",
    "        |             \\/               |\n",
    "     ifstream      iostream        ofstream\n",
    "                    △   △\n",
    "                    |    |\n",
    "           +--------+    +--------+\n",
    "           |                      |\n",
    "        fstream             stringstream\n",
    "``` \n",
    "\n",
    "As you can see, `ios_base` is the grandparent of all stream classes. It is subclassed by the `ios` class, which stands for input-output-stream and has nothing to do with the iOS operating system from Apple. The `ios` class is the parent of both the `istream`, which is the input stream class of `cin`, and the `ostream`, which is the output stream class of `cout` and `cerr`. `iostream` is an example of multiple inheritances with its two parents `istream` and `ostream`. All of these classes are for the standard input and output (keyboard and console screen). \n",
    "\n",
    "For working with files, we have three streams: the input file stream `ifstream` for reading data from a file, the output file stream `ofstream` for writing data to a file, and the input and output file stream `fstream` for reading data from and writing data to the same file. \n",
    "\n",
    "Going down the hierarchy, we can also see that the `stringstream` class is both an input and an output stream.\n",
    "\n",
    "Having a hierarchy like this showcases the importance object-oriented programming, brings simplicity and consistency to how we handle input and output, and makes working with file and string streams identical to using `cout` and `cin`.\n",
    "\n",
    "To get started working with files, we must first include the `<fstream>` header file."
   ]
  },
  {
   "cell_type": "code",
   "execution_count": 3,
   "metadata": {},
   "outputs": [],
   "source": [
    "#include <fstream>"
   ]
  },
  {
   "cell_type": "markdown",
   "metadata": {},
   "source": [
    "## Writing to a file\n",
    "\n",
    "To write to a file we use the `ofstream` class. Here is a simple example of writing the string `\"Hello, World!\"` to a text file named `hello.txt`. "
   ]
  },
  {
   "cell_type": "code",
   "execution_count": 4,
   "metadata": {},
   "outputs": [],
   "source": [
    "ofstream out(\"hello.txt\");\n",
    "\n",
    "out << \"Hello World!\" << endl;\n",
    "\n",
    "out.close();"
   ]
  },
  {
   "cell_type": "markdown",
   "metadata": {},
   "source": [
    "As you can see, creating a file involves nothing more than creating an object of the `ofstream` and passing the name of the file as an argument to its constructor. We called this object `out` but it could be any valid C++ identifier. Having done that, the variable `out` is now an output stream just like `cout` is, and we can use it exactly the same way. \n",
    "\n",
    "And when we are done writing to the file, it is important to close the file by calling `out.close()`.\n",
    "\n",
    "After running the code above, go to the folder where this worksheet is saved, you will find a file named `hello.txt` in there. This file did not exist before and was created by running the above cell code. Open it to see its contents.\n",
    "\n",
    "## Appending text to an existing file\n",
    "\n",
    "If you have an existing file that you want to add contents to, you can open it in the same way as before except for adding the extra constructor argument (`ios::app`) to tell C++ to append to the file if it exists instead of writing over it. Since we already have the `hello.txt` file from the example above, let us open this file and append some new text to it. Here we'll prompt the user for a name, read that name from the standard input, and then append the line `\"Welcome <name> to C++ programming!\"` to the end of the file. Run the following code cell and then open the `hello.txt` file again to make sure that it now has the appended new text line at the end."
   ]
  },
  {
   "cell_type": "code",
   "execution_count": 5,
   "metadata": {},
   "outputs": [
    {
     "name": "stdout",
     "output_type": "stream",
     "text": [
      "Enter your first name: \n",
      "Chase\n"
     ]
    }
   ],
   "source": [
    "cout << \"Enter your first name: \";\n",
    "string name;\n",
    "cin >> name;\n",
    "\n",
    "ofstream out2(\"hello.txt\", ios::app);\n",
    "out2 << \"Welcome \" << name << \" to C++ programming!\" << endl;\n",
    "out2.close();"
   ]
  },
  {
   "cell_type": "markdown",
   "metadata": {},
   "source": [
    "### CODING CHALLENGE\n",
    "\n",
    "In the code cell below, write a program that prompts the user for words, reads these words from the keyboard, and saves them one word per line to a file named `words.txt`"
   ]
  },
  {
   "cell_type": "code",
   "execution_count": 6,
   "metadata": {},
   "outputs": [
    {
     "name": "stdout",
     "output_type": "stream",
     "text": [
      "Enter some words: \n",
      "asdfhjkl\n",
      "asdfhjkladsf\n",
      "adfhjklasdf\n"
     ]
    }
   ],
   "source": [
    "//TODO\n",
    "string input1, input2, input3;\n",
    "ofstream output(\"words.txt\");\n",
    "\n",
    "cout << \"Enter some words: \";\n",
    "cin >> input1 >> input2 >> input3;\n",
    "output << input1 << endl;\n",
    "output << input2 << endl;\n",
    "output << input3 << endl;\n",
    "\n",
    "output.close();"
   ]
  },
  {
   "cell_type": "markdown",
   "metadata": {},
   "source": [
    "### CODING CHALLENGE\n",
    "\n",
    "In the code cell below, write a program that prompts the user for two more words, reads these two words from the keyboard, and saves them one word per line at the bottom the `words.txt` file that was created by the previous coding challenge."
   ]
  },
  {
   "cell_type": "code",
   "execution_count": 7,
   "metadata": {},
   "outputs": [
    {
     "name": "stdout",
     "output_type": "stream",
     "text": [
      "Enter two more words: asdfhjqfoiu\n",
      "qefinm,asv\n"
     ]
    }
   ],
   "source": [
    "//TODO\n",
    "string input4, input5;\n",
    "ofstream output2(\"words.txt\", ios::app);\n",
    "\n",
    "cout << \"Enter two more words: \";\n",
    "cin >> input4 >> input5;\n",
    "output2 << input4 << endl;\n",
    "output2 << input5 << endl;\n",
    "\n",
    "output2.close();"
   ]
  },
  {
   "cell_type": "markdown",
   "metadata": {},
   "source": [
    "## Using `setw` to organize file output into tables\n",
    "\n",
    "Because  `ofstream` is an output stream, we can use `setw` with it just like we did with `cout`. The code cell below uses `setw` to generate a data table like this and save it into a file named `multable.txt`:\n",
    "\n",
    "| x | 2 * x | 3 * x | 4 * x | 5 * x |\n",
    "| - | ----- | ----- | ----- | ----- |\n",
    "| 1 | 2     | 3     | 4     | 5     |\n",
    "| 2 | 4     | 6     | 8     | 10    |\n",
    "| 3 | 6     | 9     | 12    | 15    |\n",
    "| 4 | 8     | 12    | 16    | 20    |\n",
    "| 5 | 10    | 15    | 20    | 25    |"
   ]
  },
  {
   "cell_type": "code",
   "execution_count": 8,
   "metadata": {},
   "outputs": [],
   "source": [
    "ofstream mt_out(\"multable.txt\");\n",
    "mt_out << setw(4) << \"x\" << setw(6) << \"2*x\" << setw(6) <<\"3*x\" << setw(6) <<\"4*x\" << setw(6) << \"5*x\" << endl;\n",
    "for(int x = 1; x <= 5; x++){\n",
    "  mt_out << setw(4) << x;\n",
    "  for(int y = 2; y <= 5; y++){\n",
    "      mt_out << setw(6) << x * y;\n",
    "  }\n",
    "  \n",
    "  mt_out << endl;\n",
    "}\n",
    "mt_out.close();"
   ]
  },
  {
   "cell_type": "markdown",
   "metadata": {},
   "source": [
    "Under the folder where this worksheet is saved, there should be a file named `multable.txt`. Open it to see its formatted table-like contents."
   ]
  },
  {
   "cell_type": "markdown",
   "metadata": {},
   "source": [
    "### CODING CHALLENGE\n",
    "\n",
    "In the code cell below, write a program that prompts the user for a year (say 2019, for instance) and output a file named `daysNmonths.txt` containing a table of how many days in each month for that given year in a format like this:\n",
    "\n",
    "| YEAR | MONTH     | DAYS |\n",
    "| ---- | --------- | ---- |\n",
    "| 2019 | January   | 31   |\n",
    "| 2019 | February  | 28   |\n",
    "| 2019 | March     | 31   |\n",
    "| 2019 | April     | 30   |\n",
    "| 2019 | May       | 31   |\n",
    "| 2019 | June      | 30   |\n",
    "| 2019 | July      | 31   |\n",
    "| 2019 | August    | 31   |\n",
    "| 2019 | September | 30   |\n",
    "| 2019 | October   | 31   |\n",
    "| 2019 | November  | 30   |\n",
    "| 2019 | December  | 31   |\n",
    "\n",
    "Remember that February has 29 on leap years and 28 days on other years. A leap year is a year that is divisible by 4 and is not divisible by 100. That is:"
   ]
  },
  {
   "cell_type": "code",
   "execution_count": 9,
   "metadata": {},
   "outputs": [
    {
     "name": "stdout",
     "output_type": "stream",
     "text": [
      "Enter a year: \n",
      "2001\n"
     ]
    }
   ],
   "source": [
    "//TODO\n",
    "{\n",
    "    \n",
    "    int year;\n",
    "    cout << \"Enter a year: \";\n",
    "    cin >> year;\n",
    "    \n",
    "    struct Columns\n",
    "    {\n",
    "        int col_width_1;\n",
    "        int col_width_2;\n",
    "        int col_width_3;\n",
    "    };\n",
    "    \n",
    "    Columns cols = {4, 11, 6};\n",
    "\n",
    "    ofstream df(\"daysNmonths.txt\");\n",
    "    \n",
    "    class Row {\n",
    "    public:\n",
    "        static void printRow(ofstream& os, Columns cols, int year, string month, int days)\n",
    "        {\n",
    "            os << setw(cols.col_width_1) << year << setw(cols.col_width_2) << month << setw(cols.col_width_3) << days << endl;\n",
    "        }\n",
    "    };\n",
    "\n",
    "    df << setw(cols.col_width_1) << \"YEAR\" << setw(cols.col_width_2) << \"MONTH\" << setw(cols.col_width_3) << \"DAYS\" << endl;\n",
    "    for (int i = 0; i < 12; i++) {\n",
    "        switch(i) {\n",
    "            case 0:\n",
    "                Row::printRow(df, cols, year, \"January\", 31);\n",
    "                break;\n",
    "            case 1:\n",
    "                if (year % 100 == 0) {\n",
    "                    Row::printRow(df, cols, year, \"February\", 28);\n",
    "\n",
    "                } else if (year % 4 == 0) {\n",
    "                    Row::printRow(df, cols, year, \"February\", 29);\n",
    "                } else {\n",
    "                    Row::printRow(df, cols, year, \"February\", 28);\n",
    "                }\n",
    "                break;\n",
    "            case 2:\n",
    "                Row::printRow(df, cols, year, \"March\", 31);\n",
    "                break;\n",
    "            case 3:\n",
    "                Row::printRow(df, cols, year, \"April\", 30);\n",
    "                break;\n",
    "            case 4:\n",
    "                Row::printRow(df, cols, year, \"May\", 31);\n",
    "                break;\n",
    "            case 5:\n",
    "                Row::printRow(df, cols, year, \"June\", 30);\n",
    "                break;\n",
    "            case 6:\n",
    "                Row::printRow(df, cols, year, \"July\", 31);\n",
    "                break;\n",
    "            case 7:\n",
    "                Row::printRow(df, cols, year, \"August\", 31);\n",
    "                break;\n",
    "            case 8:\n",
    "                Row::printRow(df, cols, year, \"September\", 30);\n",
    "                break;\n",
    "            case 9:\n",
    "                Row::printRow(df, cols, year, \"October\", 31);\n",
    "                break;\n",
    "            case 10:\n",
    "                Row::printRow(df, cols, year, \"November\", 30);\n",
    "                break;\n",
    "            case 11:\n",
    "                Row::printRow(df, cols, year, \"December\", 31);\n",
    "                break;\n",
    "            default:\n",
    "                break;\n",
    "        }\n",
    "    }\n",
    "    \n",
    "    df.close();\n",
    "}"
   ]
  },
  {
   "cell_type": "markdown",
   "metadata": {},
   "source": [
    "## Reading from a file\n",
    "\n",
    "Reading from a text file is simple too. It starts with creating an `ifstream` object and passing the name of the file we want to read from as argument to its constructor. The file we are trying to read must exist already. This new input file stream object can then used in the same way we use `cin`, because both of them are input streams.\n",
    "\n",
    "Here is an example program reading the contents of the previously created `multable.txt` file line by line and displaying them to the screen."
   ]
  },
  {
   "cell_type": "code",
   "execution_count": 10,
   "metadata": {},
   "outputs": [
    {
     "name": "stdout",
     "output_type": "stream",
     "text": [
      "   x   2*x   3*x   4*x   5*x\n",
      "   1     2     3     4     5\n",
      "   2     4     6     8    10\n",
      "   3     6     9    12    15\n",
      "   4     8    12    16    20\n",
      "   5    10    15    20    25\n"
     ]
    }
   ],
   "source": [
    "ifstream in(\"multable.txt\");\n",
    "string line;\n",
    "\n",
    "while(getline(in, line)){\n",
    "    cout << line << endl;\n",
    "}\n",
    "\n",
    "in.close();"
   ]
  },
  {
   "cell_type": "markdown",
   "metadata": {},
   "source": [
    "Here, we use the `while` loop to make sure we read everything in the file, and we use the `getline()` function to read it line by line. Notice how we use the `getline(in, line)` as a condition for this loop. This `getline()` function will keep returning `true` until end of file is encountered.\n",
    "\n",
    "But what if, instead of reading this file line by line, we want to read it a value by value. To do this, we need to pay attention to the following:\n",
    "* the data type of each value. The header row is all strings while the subsequent rows are all integers.\n",
    "* how many values per row (5 in this example)\n",
    "\n",
    "Here is a simple program for doing that."
   ]
  },
  {
   "cell_type": "code",
   "execution_count": 11,
   "metadata": {},
   "outputs": [
    {
     "name": "stdout",
     "output_type": "stream",
     "text": [
      "   x   2*x   3*x   4*x   5*x\n",
      "   1     2     3     4     5\n",
      "   2     4     6     8    10\n",
      "   3     6     9    12    15\n",
      "   4     8    12    16    20\n",
      "   5    10    15    20    25\n"
     ]
    }
   ],
   "source": [
    "ifstream mt_in(\"multable.txt\");\n",
    "string hx, h2x, h3x, h4x, h5x; // one per header; five headers total.\n",
    "int x, x2, x3, x4, x5; // one per value per row: five values per row total;\n",
    "\n",
    "// Read the headers\n",
    "mt_in >> hx >> h2x >> h3x >> h4x >> h5x;\n",
    "// Outout the headers\n",
    "cout << setw(4) << hx << setw(6) << h2x << setw(6) << h3x << setw(6) << h4x << setw(6) << h5x << endl;\n",
    "\n",
    "// Read and output the numbers one row at a time\n",
    "while(mt_in >> x >> x2 >> x3 >> x4 >> x5){\n",
    "    cout << setw(4) << x << setw(6) << x2 << setw(6) << x3 << setw(6) << x4 << setw(6) << x5 << endl;\n",
    "}\n",
    "\n",
    "mt_in.close();"
   ]
  },
  {
   "cell_type": "markdown",
   "metadata": {},
   "source": [
    "Notice how we but the `mt_in >> x >> x2 >> x3 >> x4 >> x5` expression as a condition to the `while` loop. This is, again, to instruct c++ to keep reading from the file until end of file is reached. When end of file is encountered, this expression will evaluate to `false` causing the while loop to terminate. \n",
    "\n",
    "### CODING CHALLENGE\n",
    "\n",
    "Write a program that reads the contents of the `daysNmonths.txt` file created by the previous coding challenge value by value and displays only the second and third columns to the screen."
   ]
  },
  {
   "cell_type": "code",
   "execution_count": 12,
   "metadata": {},
   "outputs": [
    {
     "name": "stdout",
     "output_type": "stream",
     "text": [
      "YEAR      MONTH  DAYS\n",
      "2001    January    31\n",
      "2001   February    28\n",
      "2001      March    31\n",
      "2001      April    30\n",
      "2001        May    31\n",
      "2001       June    30\n",
      "2001       July    31\n",
      "2001     August    31\n",
      "2001  September    30\n",
      "2001    October    31\n",
      "2001   November    30\n",
      "2001   December    31\n"
     ]
    }
   ],
   "source": [
    "//TODO\n",
    "{\n",
    "    ifstream df_in(\"daysNmonths.txt\");\n",
    "    string hyear, hmonth, hdays; // one per header; five headers total.\n",
    "    string ryear, rmonth, rdays; // one per value per row: five values per row total;\n",
    "\n",
    "    // Read the headers\n",
    "    df_in >> hyear >> hmonth >> hdays;\n",
    "    // Outout the headers\n",
    "    cout << setw(4) << hyear << setw(11) << hmonth << setw(6) << hdays << endl;\n",
    "\n",
    "    // Read and output the numbers one row at a time\n",
    "    while(df_in >> ryear >> rmonth >> rdays) {\n",
    "        cout << setw(4) << ryear << setw(11) << rmonth << setw(6) << rdays << endl;\n",
    "    }\n",
    "\n",
    "    df_in.close();\n",
    "}"
   ]
  },
  {
   "cell_type": "markdown",
   "metadata": {},
   "source": [
    "## Working with errors\n",
    "\n",
    "Working with files can result in errors, We might be trying to read from a file the does not exist or write to a file that we don't have permission to write to. All stream objects come with error states that we can check to make sure that these streams are in good condition. We can use the `eof()` function to check if the end of file has been reached. We can use the `fail()` function to see if the attempted stream operation fails. Similarly, the `bad()` function can be called to check if an invalid operation was attempted and the `good()` function can be used to make sure the stream is in good condition.\n",
    "\n",
    "Here is an example program using the error-checking functions above to read and display the contents of the previously created `hello.txt` file. First, we changed the while loop condition to the `eof()` function instead. This means keep reading data from the input file as long as it is not end of file. Second, we make sure that the stream is in good condition using the `good()` function before we printed out the results."
   ]
  },
  {
   "cell_type": "code",
   "execution_count": 13,
   "metadata": {},
   "outputs": [
    {
     "name": "stdout",
     "output_type": "stream",
     "text": [
      "Hello World!\n",
      "Welcome Chase to C++ programming!\n"
     ]
    }
   ],
   "source": [
    "ifstream h_in(\"hello.txt\");\n",
    "string text;\n",
    "while(!h_in.eof()){\n",
    "    getline(h_in, text);\n",
    "    if(h_in.good()){\n",
    "         cout << text << endl;\n",
    "    }\n",
    "}\n",
    "h_in.close();"
   ]
  },
  {
   "cell_type": "markdown",
   "metadata": {},
   "source": [
    "## Output manipulators\n",
    "\n",
    "To support streams, C++ provides many manipulators to control and format the data that goes into these streams.  One such manipulator is the `setw` manipulator we have been using all along. But `setw` is not the only manipulator we can use. There are many more manipulators to take advantage of and all these manipulators require the header file `<iomanip>`. \n",
    "\n",
    "To start, we can use `setfill` to change the fill character used by `setw` to something other than the space character, which is the default. This manipulator takes a single filling character as an argument. Here is an example using the `setfill` manipulator to replace the spaces in the previous multiplication table with periods `.`. Notice how, unlike `setw`, we only had to call `setfill` once; subsequent `setw` calls will use the new filling character.\n",
    "\n",
    "Run the following code cell multiple times and each time change the fill character to something else."
   ]
  },
  {
   "cell_type": "code",
   "execution_count": 14,
   "metadata": {
    "scrolled": true
   },
   "outputs": [
    {
     "name": "stdout",
     "output_type": "stream",
     "text": [
      "...x...2*x...3*x...4*x...5*x\n",
      "...1.....2.....3.....4.....5\n",
      "...2.....4.....6.....8....10\n",
      "...3.....6.....9....12....15\n",
      "...4.....8....12....16....20\n",
      "...5....10....15....20....25\n"
     ]
    }
   ],
   "source": [
    "cout << setfill('.');\n",
    "cout << setw(4) << \"x\" << setw(6) << \"2*x\" << setw(6) <<\"3*x\" << setw(6) <<\"4*x\" << setw(6) << \"5*x\" << endl;\n",
    "for(int x = 1; x <= 5; x++){\n",
    "  cout << setw(4) << x;\n",
    "  for(int y = 2; y <= 5; y++){\n",
    "      cout << setw(6) << x * y;\n",
    "  }\n",
    "  \n",
    "  cout << endl;\n",
    "}"
   ]
  },
  {
   "cell_type": "markdown",
   "metadata": {},
   "source": [
    "To go back to using spaces, we call `setfill(' ')`:"
   ]
  },
  {
   "cell_type": "code",
   "execution_count": 15,
   "metadata": {},
   "outputs": [],
   "source": [
    "cout << setfill(' ');"
   ]
  },
  {
   "cell_type": "markdown",
   "metadata": {},
   "source": [
    "We can also use the `fixed` and `setprecision`  manipulators to format `double` and/or `float` numbers. `fixed` instructs C++ to display numbers in fixed-point notation (using the decimal point). `setprecision`, on the other hand, sets the precision of the numbers. It takes an integer argument which can mean one of two things depending on whether the manipulator `fixed` is also used :\n",
    "* If `fixed` is not used, it specifies the number of digits to display including both the digits before and after the point.\n",
    "* If `fixed` is used, it specifies the number of decimal points after the point. \n",
    "\n",
    "The cell code below displays, in a table, the numbers 1 through 10 along with their square roots; no `setprecision` and no `fixed` yet. Notice that to use the `sqrt()` function for calculating the square root, we need to include the `<cmath>` header file."
   ]
  },
  {
   "cell_type": "code",
   "execution_count": 16,
   "metadata": {
    "scrolled": true
   },
   "outputs": [
    {
     "name": "stdout",
     "output_type": "stream",
     "text": [
      "  1:          1\n",
      "  2:    1.41421\n",
      "  3:    1.73205\n",
      "  4:          2\n",
      "  5:    2.23607\n",
      "  6:    2.44949\n",
      "  7:    2.64575\n",
      "  8:    2.82843\n",
      "  9:          3\n",
      " 10:    3.16228\n"
     ]
    }
   ],
   "source": [
    "for(double i = 1; i <= 10; i++) {\n",
    "    cout << setw(3) << i << \": \" << setw(10) << sqrt(i) << endl;\n",
    "}"
   ]
  },
  {
   "cell_type": "markdown",
   "metadata": {},
   "source": [
    "Here is the code above with precision set to 4; no `fixed`."
   ]
  },
  {
   "cell_type": "code",
   "execution_count": 17,
   "metadata": {},
   "outputs": [
    {
     "name": "stdout",
     "output_type": "stream",
     "text": [
      "  1:          1\n",
      "  2:      1.414\n",
      "  3:      1.732\n",
      "  4:          2\n",
      "  5:      2.236\n",
      "  6:      2.449\n",
      "  7:      2.646\n",
      "  8:      2.828\n",
      "  9:          3\n",
      " 10:      3.162\n"
     ]
    }
   ],
   "source": [
    "cout << setprecision(4);\n",
    "for(double i = 1; i <= 10; i++) {\n",
    "    cout << setw(3) << i << \": \" << setw(10) << sqrt(i) << endl;\n",
    "}"
   ]
  },
  {
   "cell_type": "markdown",
   "metadata": {},
   "source": [
    "Here is the code above using `fixed` and with precision set to 4. "
   ]
  },
  {
   "cell_type": "code",
   "execution_count": 18,
   "metadata": {
    "scrolled": true
   },
   "outputs": [
    {
     "name": "stdout",
     "output_type": "stream",
     "text": [
      "1.0000:     1.0000\n",
      "2.0000:     1.4142\n",
      "3.0000:     1.7321\n",
      "4.0000:     2.0000\n",
      "5.0000:     2.2361\n",
      "6.0000:     2.4495\n",
      "7.0000:     2.6458\n",
      "8.0000:     2.8284\n",
      "9.0000:     3.0000\n",
      "10.0000:     3.1623\n"
     ]
    }
   ],
   "source": [
    "cout << setprecision(4) << fixed;\n",
    "for(double i = 1; i <= 10; i++) {\n",
    "    cout << setw(3) << i << \": \" << setw(10) << sqrt(i) << endl;\n",
    "}"
   ]
  },
  {
   "cell_type": "markdown",
   "metadata": {},
   "source": [
    "Now all numbers have exactly 4 decimal places. To turn `fixed` off, we call:"
   ]
  },
  {
   "cell_type": "code",
   "execution_count": 19,
   "metadata": {},
   "outputs": [],
   "source": [
    "cout << resetiosflags(ios::fixed);"
   ]
  },
  {
   "cell_type": "markdown",
   "metadata": {},
   "source": [
    "Unless the precision changes for one number to the next, we only needed to call `setprecision` once. Here is another example where we display the square root of 2 in increasing precisions."
   ]
  },
  {
   "cell_type": "code",
   "execution_count": null,
   "metadata": {
    "scrolled": true
   },
   "outputs": [],
   "source": [
    "for(int i = 1; i <= 10; i++) {\n",
    "    cout << setw(3) << i << setw(15) << setprecision(i) << sqrt(2.0) << endl;\n",
    "}"
   ]
  },
  {
   "cell_type": "markdown",
   "metadata": {},
   "source": [
    "By default, the columns above are right-aligned. We can use the manipulators `left` and `right` to change that. Here is the example above with left-aligned columns."
   ]
  },
  {
   "cell_type": "code",
   "execution_count": null,
   "metadata": {},
   "outputs": [],
   "source": [
    "cout << left;\n",
    "for(int i = 1; i <= 10; i++) {\n",
    "    cout << setw(3) << i << setw(15) << setprecision(i) << sqrt(2.0) << endl;\n",
    "}"
   ]
  },
  {
   "cell_type": "markdown",
   "metadata": {},
   "source": [
    "To switch back to right-alignment we use the `right` manipulator."
   ]
  },
  {
   "cell_type": "code",
   "execution_count": null,
   "metadata": {
    "scrolled": true
   },
   "outputs": [],
   "source": [
    "cout << right;\n",
    "for(int i = 1; i <= 10; i++) {\n",
    "    cout << setw(3) << i << setw(15) << setprecision(i) << sqrt(2.0) << endl;\n",
    "}"
   ]
  },
  {
   "cell_type": "markdown",
   "metadata": {},
   "source": [
    "Moreover, we can use the `dec`, `oct`, and `hex` manipulators to display integers in **decimal**, **octal**, and **hexadecimal** formats respectively.  Here is an example displaying the integers 1 through 20 in decimal, octal, lowercase hexadecimal, and uppercase hexadecimal formats. "
   ]
  },
  {
   "cell_type": "code",
   "execution_count": null,
   "metadata": {
    "scrolled": true
   },
   "outputs": [],
   "source": [
    "cout << left << setw(6) << \"DEC\"\n",
    "     << setw(6) << \"OCT\"\n",
    "     << setw(6) << \"hex\"\n",
    "     << setw(6) << \"HEX\" << endl;\n",
    "\n",
    "for(int i = 1; i <= 20; i += 2){\n",
    "  cout << setw(6) << dec << i\n",
    "       << setw(6) << oct << i\n",
    "       << setw(6) << nouppercase << hex << i\n",
    "       << setw(6) << uppercase << hex << i << endl;\n",
    "}"
   ]
  },
  {
   "cell_type": "markdown",
   "metadata": {},
   "source": [
    "Notice that the `uppercase` and `nouppercase` manipulators are not for converting arbitrary strings to uppercase or lowercase. They are rather for changing the letters in the hexadecimal number system to uppercase or lowercase, respectively. \n",
    "\n",
    "It is important to finally remember that all these manipulators work the same for any output stream regardless of whether it is a standard output stream like `cout`,  an output file stream, or even a stringstream. Such consistency across all streams is extremely important and useful.\n",
    "\n",
    "### CODING CHALLENGE\n",
    "\n",
    "Write a program that writes the above decimal/octal/hexadecimal table to a file named `numbers.txt`."
   ]
  },
  {
   "cell_type": "code",
   "execution_count": null,
   "metadata": {},
   "outputs": [],
   "source": [
    "//TODO\n",
    "ofstream num_out(\"numbers.txt\");\n",
    "\n",
    "num_out << left << setw(6) << \"DEC\"\n",
    "     << setw(6) << \"OCT\"\n",
    "     << setw(6) << \"hex\"\n",
    "     << setw(6) << \"HEX\" << endl;\n",
    "\n",
    "for(int i = 1; i <= 20; i += 2){\n",
    "  num_out << setw(6) << dec << i\n",
    "       << setw(6) << oct << i\n",
    "       << setw(6) << nouppercase << hex << i\n",
    "       << setw(6) << uppercase << hex << i << endl;\n",
    "}"
   ]
  },
  {
   "cell_type": "markdown",
   "metadata": {},
   "source": [
    "## Putting it all together\n",
    "\n",
    "Let's have a final example that shows how to combine as many of these manipulators as possible. In this example, we have the following structure that represents digital colors. A digital color has three components: red, green, and blue. Each of these components takes a value between 0 and 255. We also define an array of the seven colors of the rainbow."
   ]
  },
  {
   "cell_type": "code",
   "execution_count": null,
   "metadata": {},
   "outputs": [],
   "source": [
    "struct Color {\n",
    "    int r, g, b;\n",
    "    string name;\n",
    "};\n",
    "\n",
    "Color rainbow[] = {\n",
    "    {255, 0, 0, \"Red\"},\n",
    "    {255, 127, 0, \"Orange\"},\n",
    "    {255, 255, 0, \"Yellow\"},\n",
    "    {0, 255, 0, \"Green\"},\n",
    "    {0, 0, 255, \"Blue\"},\n",
    "    {75, 0, 130, \"Indigo\"},\n",
    "    {143, 0, 255, \"Violet\"}\n",
    "};"
   ]
  },
  {
   "cell_type": "markdown",
   "metadata": {},
   "source": [
    "Here is a loop that displays these colors with their decimal and hexadecimal representations in the following format.\n",
    "\n",
    "```text\n",
    "COLOR      DECIMAL(rgb)          HEXADECIMAL(rgb)\n",
    "========== ===================== ================ \n",
    "Red....... 255   0   0 ......... FF 0  0  \n",
    "Orange.... 255 127   0 ......... FF 7F 0  \n",
    "Yello..... 255 255   0 ......... FF FF 0  \n",
    "Green.....   0 255   0 ......... 0  FF 0  \n",
    "Blue......   0   0 255 ......... 0  0  FF \n",
    "Indigo....  75   0 130 ......... 4B 0  82 \n",
    "Violet.... 143   0 255 ......... 8F 0  FF \n",
    "```"
   ]
  },
  {
   "cell_type": "code",
   "execution_count": null,
   "metadata": {},
   "outputs": [],
   "source": [
    "cout << left << setw(10) << \"COLOR\" << ' ' << setw(11) \n",
    "     << \"DECIMAL(rgb)\" << setw(10) << ' ' << setw(8) << \"HEXADECIMAL(rgb)\" << endl;\n",
    "cout << right << setfill('=') << setw(11) << \"= \" \n",
    "     << setfill('=') << setw(22) << \"= \" \n",
    "     << setfill('=') << setw(17) << \"= \" << endl;\n",
    "\n",
    "for(Color c : rainbow){\n",
    "    cout << left << setfill('.') << setw(10) << c.name << ' '\n",
    "         << dec << setfill(' ') << right << setw(3) << c.r // Decimal\n",
    "         << right << setw(4) << c.g\n",
    "         << right << setw(4) << c.b << ' '\n",
    "         << hex << setfill('.') << right << setw(10) << ' ' << setfill(' ') <<  left << setw(3) << c.r // Hexadecimal\n",
    "         << setfill(' ') << setw(3) << c.g\n",
    "         << setw(3) << c.b\n",
    "         << endl;\n",
    "}"
   ]
  },
  {
   "cell_type": "markdown",
   "metadata": {},
   "source": [
    "Notice that the color names and the decimal numbers are right-aligned while the hexadecimal numbers are left-aligned.\n",
    "\n",
    "### CODING CHALLENGE\n",
    "Copy the code cell above to the code cell below and refactor it such that:\n",
    "* the `.` filling characters are replaced by underscores `_`.\n",
    "* the alignment of the decimal numbers is changed to left.\n",
    "* the alignment of the hexadecimal numbers is changed to right."
   ]
  },
  {
   "cell_type": "code",
   "execution_count": null,
   "metadata": {},
   "outputs": [],
   "source": [
    "//TODO\n",
    "cout << left << setw(10) << \"COLOR\" << ' ' << setw(11) \n",
    "     << \"DECIMAL(rgb)\" << setw(11) << ' ' << setw(8) << \"HEXADECIMAL(rgb)\" << endl;\n",
    "cout << right << setfill('=') << setw(11) << \"= \" \n",
    "     << setfill('=') << setw(23) << \"= \" \n",
    "     << setfill('=') << setw(17) << \"= \" << endl;\n",
    "\n",
    "for(Color c : rainbow){\n",
    "    cout << left << setfill('_') << setw(10) << c.name << ' '\n",
    "         << dec << setfill(' ') << setw(4) << c.r // Decimal\n",
    "         << setw(4) << c.g\n",
    "         << setw(4) << c.b << ' '\n",
    "         << hex << setfill('_') << right << setw(10) << ' ' << setfill(' ') << setw(3) << c.r // Hexadecimal\n",
    "         << setfill(' ') << setw(3) << c.g\n",
    "         << setw(3) << c.b\n",
    "         << endl;\n",
    "}"
   ]
  },
  {
   "cell_type": "markdown",
   "metadata": {},
   "source": [
    "### CODING CHALLENGE\n",
    "\n",
    "Refactor the code of the previous coding challenge to save the output to a file named `rainbow.txt` instead of printing it to the console."
   ]
  },
  {
   "cell_type": "code",
   "execution_count": null,
   "metadata": {},
   "outputs": [],
   "source": [
    "//TODO"
   ]
  }
 ],
 "metadata": {
  "kernelspec": {
   "display_name": "C++17",
   "language": "C++17",
   "name": "xcpp17"
  },
  "language_info": {
   "codemirror_mode": "text/x-c++src",
   "file_extension": ".cpp",
   "mimetype": "text/x-c++src",
   "name": "c++",
   "version": "-std=c++17"
  }
 },
 "nbformat": 4,
 "nbformat_minor": 2
}
