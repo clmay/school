{
 "cells": [
  {
   "cell_type": "markdown",
   "metadata": {},
   "source": [
    "# Exceptions\n",
    "\n",
    "A lot of what we do as programmers involve recognizing errors, anticipating them, and handling them when they occur. In fact, errors happen all the time, and we can identify three kinds of errors: \n",
    "* **Compile-time errors** which are discovered and reported by the compiler during compilation. These errors must be fixed before the program can run. Unbalanced braces or missing semicolons at the ends of statements are common examples of compile-time errors.\n",
    "* **Runtime errors** which pass the compiler's test and do not show up until the program is run. Unhandled runtime errors can crash the program. For example, entering the string `\"fifty five\"` instead of `55` for an integer variable causes an error and, unless handled, crashes the program. These errors are harder to detect than compile-time errors. We used exceptions to throw, catch, and handle these errors\n",
    "* **Logical errors** which are the worst kind of errors. These are the errors that the compiler cannot detect nor do they crash the program. Instead, your program keeps running except that it produces incorrect results. For example, mistaking May 4 (05/04/2019) for April 5 (04/05/2019) is a logical error. The only way to detect and prevent these errors is to be code carefully, be organized, and test thoroughly.\n",
    "\n",
    "One of the early goals of C++ is to improve and standardize how errors are reported and handled over what C provides. In doing so, C++ distinguishes between checking for errors and handling them. Checking for errors means detecting when errors occur. Handling them means responding to them. C++ uses exceptions to achieve this separation. When an error is checked and detected inside a function, an exception is thrown. It's up to the program that called this function to catch the thrown exception and handle it. **In C++, an unhandled exception will crash the program.**.\n",
    "\n",
    "Here is a simple function that takes two arguments and returns the results of dividing the first argument by the second."
   ]
  },
  {
   "cell_type": "code",
   "execution_count": null,
   "metadata": {},
   "outputs": [],
   "source": [
    "#include <iostream>\n",
    "#include <iomanip>\n",
    "#include <fstream>\n",
    "#include <string>\n",
    "#include <vector>\n",
    "using namespace std;"
   ]
  },
  {
   "cell_type": "code",
   "execution_count": null,
   "metadata": {},
   "outputs": [],
   "source": [
    "double divide(double number, double by){\n",
    "    return number / by;\n",
    "}"
   ]
  },
  {
   "cell_type": "markdown",
   "metadata": {},
   "source": [
    "If `by` is 0, this function will attempt to divide by zero, which is a major error. So this function needs to test for that and prevent it from happening. But what would we do when a division by zero is detected? \n",
    "\n",
    "Using C++ exceptions, all we need to do is throw an exception. But what is an exception and how do we throw it? Well, in C++ an exception could be any value or object. In this example, we could throw the value of `by` back as the exception. To throw an exception, C++ provides the `throw` keyword.\n",
    "\n",
    "Here is a revised version of the `divide` function above."
   ]
  },
  {
   "cell_type": "code",
   "execution_count": null,
   "metadata": {},
   "outputs": [],
   "source": [
    "double divide1(double number, double by){\n",
    "    if(by == 0){\n",
    "        throw by;\n",
    "    }\n",
    "        \n",
    "    return number / by;\n",
    "}"
   ]
  },
  {
   "cell_type": "markdown",
   "metadata": {},
   "source": [
    "Notice how we used a simple `if` conditional to detect the error and throw an exception. Given the following two double numbers:"
   ]
  },
  {
   "cell_type": "code",
   "execution_count": null,
   "metadata": {},
   "outputs": [],
   "source": [
    "double m, n;"
   ]
  },
  {
   "cell_type": "markdown",
   "metadata": {},
   "source": [
    "The following program will crash when the second entered double number is 0. Try it and see what error is given when that happens. How do we prevent this program from crashing? The answer is to catch the thrown exception and handle it gracefully."
   ]
  },
  {
   "cell_type": "code",
   "execution_count": null,
   "metadata": {},
   "outputs": [],
   "source": [
    "cout << \"Enter a double number: \";\n",
    "cin >> m;\n",
    "cout << \"Enter an other double number to divide \" << m << \" by: \";\n",
    "cin >> n;\n",
    "cout << m << \" / \"  << n << \": \" << divide1(m, n) << endl;\n",
    "cout << \"DONE!\\n\";"
   ]
  },
  {
   "cell_type": "markdown",
   "metadata": {},
   "source": [
    "To catch and handle exceptions, C++ provides the `try-catch` blocks. Here is the above program with `try` and `catch`."
   ]
  },
  {
   "cell_type": "code",
   "execution_count": null,
   "metadata": {
    "scrolled": true
   },
   "outputs": [],
   "source": [
    "cout << \"Enter a double number: \";\n",
    "cin >> m;\n",
    "cout << \"Enter an other double number to divide \" << m << \" by: \";\n",
    "cin >> n;\n",
    "try {\n",
    "    cout << m << \" / \"  << n << \": \" << divide1(m, n) << endl;\n",
    "    cout << \"DONE!\\n\";\n",
    "}catch(double ex){\n",
    "    cerr << \"Exception occurred: cannot divide by zero.\";\n",
    "}"
   ]
  },
  {
   "cell_type": "markdown",
   "metadata": {},
   "source": [
    "Inside the `try{...}` block we place the code that can throw an exception, and inside the `catch(double ex){...}` block we handle the thrown exception. Notice that data type `double` in the `catch(double ex){...}` block matches that of the value/object thrown inside `divide1`. Notice also that when the exception is thrown, the `\"DONE!\"` string is not printed out. This is because inside the `try` block, when an exception is thrown, control is transferred to the corresponding `catch` block and the rest of the `try` block is skipped over.\n",
    "\n",
    "### CODING CHALLENGE\n",
    "Copy the following class to the code cell below and refactor the constructor so that if the width argument is negative, an exception is thrown.\n",
    "\n",
    "```c++\n",
    "class Square {\n",
    "private:\n",
    "    int x, y, width;\n",
    "public:\n",
    "    Square(int x, int y, int w): x(x), y(y), width(w){}\n",
    "    void show(){\n",
    "        cout << width << \"x\" << width << \" SQUARE @(\" << x << \",\" << y << \")\";\n",
    "    }\n",
    "};\n",
    "```"
   ]
  },
  {
   "cell_type": "code",
   "execution_count": null,
   "metadata": {},
   "outputs": [],
   "source": [
    "//TODO"
   ]
  },
  {
   "cell_type": "markdown",
   "metadata": {},
   "source": [
    "### CODING CHALLENGE\n",
    "\n",
    "In the code cell below, use `try` and `catch` to create two square objects one with a positive width and another with a negative width. On each object call the show function. When an exception is thrown, catch it and print an appropriate error message to the standard error (using `cerr`)."
   ]
  },
  {
   "cell_type": "code",
   "execution_count": null,
   "metadata": {},
   "outputs": [],
   "source": [
    "//TODO"
   ]
  },
  {
   "cell_type": "markdown",
   "metadata": {},
   "source": [
    "## Using the `runtime_error` class\n",
    "\n",
    "Instead of throwing arbitrary values for exceptions, we can use the standard  `runtime_error` exception class the C++ provides via the header the file `<stdexcept>`. Here is another version of the `divide` function."
   ]
  },
  {
   "cell_type": "code",
   "execution_count": null,
   "metadata": {},
   "outputs": [],
   "source": [
    "#include <stdexcept>\n",
    "double divide2(double number, double by){\n",
    "    if(by == 0){\n",
    "        throw runtime_error(\"divide by zero\");\n",
    "    }\n",
    "        \n",
    "    return number / by;\n",
    "}"
   ]
  },
  {
   "cell_type": "markdown",
   "metadata": {},
   "source": [
    "Using the `runtime_error` allows us to provide a message describing what the thrown exception is about. Here is how we handle this exception. Notice the use of the `what()` function of the thrown `runtime_error` exception to get the exception message."
   ]
  },
  {
   "cell_type": "code",
   "execution_count": null,
   "metadata": {},
   "outputs": [],
   "source": [
    "cout << \"Enter a double number: \";\n",
    "cin >> m;\n",
    "cout << \"Enter an other double number to divide \" << m << \" by: \";\n",
    "cin >> n;\n",
    "try {\n",
    "    cout << m << \" / \"  << n << \": \" << divide2(m, n) << endl;\n",
    "    cout << \"DONE!\\n\";\n",
    "}catch(runtime_error& ex){\n",
    "    cerr << \"Exception occurred: \" << ex.what();\n",
    "}"
   ]
  },
  {
   "cell_type": "markdown",
   "metadata": {},
   "source": [
    "### CODING CHALLENGE\n",
    "\n",
    "Copy the `Square` class of the previous coding challenge to the code cell below and rename it to `Square1`. Change this class so that it throws a `runtime_error` exception with a `\"negative width\"` message."
   ]
  },
  {
   "cell_type": "code",
   "execution_count": null,
   "metadata": {},
   "outputs": [],
   "source": [
    "//TODO"
   ]
  },
  {
   "cell_type": "markdown",
   "metadata": {},
   "source": [
    "## Using own exception class\n",
    "\n",
    "Alternatively, we can create our own exception class. Here is a simple exception class that extends or inherits from the standard `runtime_error` class."
   ]
  },
  {
   "cell_type": "code",
   "execution_count": null,
   "metadata": {},
   "outputs": [],
   "source": [
    "class DivisionByZero : public runtime_error{\n",
    "public:\n",
    "    DivisionByZero(): runtime_error(\"divide by zero\"){}\n",
    "};"
   ]
  },
  {
   "cell_type": "markdown",
   "metadata": {},
   "source": [
    "Here is a version of the `divide` function using this exception:"
   ]
  },
  {
   "cell_type": "code",
   "execution_count": null,
   "metadata": {},
   "outputs": [],
   "source": [
    "double divide3(double number, double by){\n",
    "    if(by == 0){\n",
    "        throw DivisionByZero();\n",
    "    }\n",
    "        \n",
    "    return number / by;\n",
    "}"
   ]
  },
  {
   "cell_type": "markdown",
   "metadata": {},
   "source": [
    "And here is the code to try and catch it:"
   ]
  },
  {
   "cell_type": "code",
   "execution_count": null,
   "metadata": {},
   "outputs": [],
   "source": [
    "cout << \"Enter a double number: \";\n",
    "cin >> m;\n",
    "cout << \"Enter an other double number to divide \" << m << \" by: \";\n",
    "cin >> n;\n",
    "try {\n",
    "    cout << m << \" / \"  << n << \": \" << divide3(m, n) << endl;\n",
    "    cout << \"DONE!\\n\";\n",
    "}catch(DivisionByZero& ex){\n",
    "    cerr << \"Exception occurred: \" << ex.what();\n",
    "}"
   ]
  },
  {
   "cell_type": "markdown",
   "metadata": {},
   "source": [
    "## Catching more than one exception\n",
    "\n",
    "In C++, we can have more than one `catch` block for the same `try` block. This is because the code inside the `try` block can throw more than one exception or no exceptions at all. Here is an example with three `catch` blocks.\n",
    "\n",
    "```c++\n",
    "try {\n",
    "   // Code to execute\n",
    "} catch (invalid_argument& e){\n",
    "   // Handle invalid argument\n",
    "} catch (runtime_error& e){\n",
    "   // Handle exception\n",
    "} catch (...){\n",
    "   // Handle anything else\n",
    "}\n",
    "```\n",
    "\n",
    "The third `catch` block has `...` between its parentheses to catch everything else that is not `invalid_argument` or `runtime_error`.\n",
    "\n",
    "We can also use the `catch(...)` block by itself if we want to catch all possible exceptions without distinguishing one from another.\n",
    "\n",
    "```c++\n",
    "try {\n",
    "   // Code to execute\n",
    "} catch (...){\n",
    "   // Code to handle all exceptions\n",
    "} \n",
    "```"
   ]
  },
  {
   "cell_type": "markdown",
   "metadata": {},
   "source": [
    "# Templates\n",
    "\n",
    "## Function templates\n",
    "\n",
    "In programming, we often come across functions or classes that are generic in nature; meaning that they can be applied the same way to objects of different data types. Take, for instance, the following `lesserOf` function, which takes two double arguments and returns the lesser of the two. "
   ]
  },
  {
   "cell_type": "code",
   "execution_count": null,
   "metadata": {},
   "outputs": [],
   "source": [
    "double lesserOf(double n, double m){\n",
    "    return n < m ? n : m;\n",
    "}"
   ]
  },
  {
   "cell_type": "markdown",
   "metadata": {},
   "source": [
    "If we were to implement this `lesserOf` function for integers or strings, we would end up with the same function duplicated three times; only the data types of the arguments would change. \n",
    "\n",
    "How can we make functions like `lesserOf` generic and without repeating the same logic over and over? C++'s answer to this important question is **generic functions** or **function templates**. According to cplusplus.com,  \"**Function templates** are special functions that can operate with generic types. This allows us to create a function template whose functionality can be adapted to more than one type or class without repeating the entire code for each type\".\n",
    "\n",
    "To define a **function template** we start with the keyword `template` followed by the angle brackets `<>` and in between them the keyword `typename` and a type identifier of your choosing such as `T` or `TypeID`. We do all this in front of the function declaration or definition either in the same line or in the line above.\n",
    "\n",
    "You can also replace the keyword `typename` with the keyword `class`. I personally recommend using `typename`. That way the keyword `class` is only used to create classes.\n",
    "\n",
    "Here is the lesserOf function as a function template. "
   ]
  },
  {
   "cell_type": "code",
   "execution_count": null,
   "metadata": {},
   "outputs": [],
   "source": [
    "template<typename T>\n",
    "T lesserOf(T n, T m){\n",
    "    return n < m ? n : m;\n",
    "}"
   ]
  },
  {
   "cell_type": "markdown",
   "metadata": {},
   "source": [
    "or like this (with the keyword `typename` replaced by the keyword `class`):\n",
    "\n",
    "```c++\n",
    "template<class T>\n",
    "T lesserOf(T n, T m){\n",
    "    return n < m ? n : m;\n",
    "}\n",
    "```"
   ]
  },
  {
   "cell_type": "markdown",
   "metadata": {},
   "source": [
    "Here we used the generic type `T` for the return type and arguments. This type `T` is not a real type, the compiler will replace it with the actual data type when the function is called.\n",
    "\n",
    "When the compiler sees a **function template** like this, it takes note of it and when it sees a call to it, it generates a specific version of the function template based on the data types of its arguments.  In other words, the call:"
   ]
  },
  {
   "cell_type": "code",
   "execution_count": null,
   "metadata": {},
   "outputs": [],
   "source": [
    "cout << lesserOf<int>(12, 9) << endl;"
   ]
  },
  {
   "cell_type": "markdown",
   "metadata": {},
   "source": [
    "will cause the compiler to generate a function like  this:\n",
    "\n",
    "```c++\n",
    "int lesserOf(int n, int m){\n",
    "    return n < m ? n : m;\n",
    "}\n",
    "```\n",
    "\n",
    "because the arguments of the call were integers. Notice the use of the angle brackets `<>` after the function name to pass the actual data type of the arguments.\n",
    "\n",
    "Similarly, the call:"
   ]
  },
  {
   "cell_type": "code",
   "execution_count": null,
   "metadata": {},
   "outputs": [],
   "source": [
    "cout << lesserOf<double>(1.2, 9.8) << endl;"
   ]
  },
  {
   "cell_type": "markdown",
   "metadata": {},
   "source": [
    "will cause the compiler to generate this function because of the double arguments:\n",
    "\n",
    "```c++\n",
    "double lesserOf(double n, double m){\n",
    "    return n < m ? n : m;\n",
    "}\n",
    "```\n",
    "\n",
    "And to make it easier for the programmers, the compiler does not require the angle brackets `<>` as long as it can detect the types from the function arguments. That means, the previous calls to `lesserOf` can be rewritten without the angle brackets `<>` and the compiler will be able to deduce the data type from the passed arguments."
   ]
  },
  {
   "cell_type": "code",
   "execution_count": null,
   "metadata": {},
   "outputs": [],
   "source": [
    "cout << lesserOf(12, 9) << endl;\n",
    "cout << lesserOf(1.2, 9.8) << endl;"
   ]
  },
  {
   "cell_type": "markdown",
   "metadata": {},
   "source": [
    "### CODING CHALLENGE\n",
    "\n",
    "Here is a function that compares two integers `a` and `b` and returns 0 if `a` equals `b`, 1 if `a` is greater than `b`, and -1 if `a` is less than `b`.\n",
    "\n",
    "```c++\n",
    "int compareTo(double a, double b){\n",
    "    if(a > b) return 1;\n",
    "    else if (a == b) return 0;\n",
    "    else return -1;\n",
    "}\n",
    "```\n",
    "\n",
    "Copy this function to the code cell below and make it a function template that works for different arguments than double. Notice that this function should always return `int`. In the code cell after that, test your function template using integer, double, and string arguments with and without the angle brackets `<>` after the function name. "
   ]
  },
  {
   "cell_type": "code",
   "execution_count": null,
   "metadata": {
    "scrolled": true
   },
   "outputs": [],
   "source": [
    "//TODO: Function template goes here"
   ]
  },
  {
   "cell_type": "code",
   "execution_count": null,
   "metadata": {},
   "outputs": [],
   "source": [
    "//TODO: Function calls go here:"
   ]
  },
  {
   "cell_type": "markdown",
   "metadata": {},
   "source": [
    "And we are not limited to a single template type, we can have two or more types. Here is an example with two template types `T` and `S` (you can choose different names for these types if you want to). This function tries to find a given value in an array and if found return the index of the found value."
   ]
  },
  {
   "cell_type": "code",
   "execution_count": null,
   "metadata": {},
   "outputs": [],
   "source": [
    "template <typename T, typename S>\n",
    "S find(T* data, T value, S size){\n",
    "    for(S j = 0; j < size; j++){\n",
    "        if(data[j] == value){\n",
    "            return j;\n",
    "        }\n",
    "    }\n",
    "    \n",
    "    return -1;\n",
    "}"
   ]
  },
  {
   "cell_type": "markdown",
   "metadata": {},
   "source": [
    "Here is a simple program calling this function."
   ]
  },
  {
   "cell_type": "code",
   "execution_count": null,
   "metadata": {},
   "outputs": [],
   "source": [
    "char vowels[] = {'A', 'E', 'I', 'O', 'U', 'Y'};\n",
    "cout << find(vowels, 'X', 6) << endl;             \n",
    "cout << find<char, unsigned>(vowels, 'U', 6) << endl; "
   ]
  },
  {
   "cell_type": "markdown",
   "metadata": {},
   "source": [
    "## Class templates\n",
    "\n",
    "**Generic programming** in C++ does not stop at **function templates**, it also supports **class templates**. Here is an example using the vector class."
   ]
  },
  {
   "cell_type": "code",
   "execution_count": null,
   "metadata": {},
   "outputs": [],
   "source": [
    "vector<double> grades = {89.5, 91.0, 96.25, 75.5, 94.75};\n",
    "double average = 0;\n",
    "for(double grade : grades){\n",
    "    average += grade / grades.size();\n",
    "}\n",
    "\n",
    "cout << \"Grade average: \" << average << endl;"
   ]
  },
  {
   "cell_type": "markdown",
   "metadata": {},
   "source": [
    "Did you notice the angle brackets `<>` after `vector`? That tells us that `vector` is a **class template**. Other class templates that the C++ standard library comes with include `map`, `array`, `queue` and `stack`, to name a few. As a matter of fact, class templates are critical to implementing the classic data structures and algorithms that are the bedrock of computer science.\n",
    "\n",
    "Like function templates, we define class templates using the keyword `template` followed by angle brackets `<>` with one or more type declarations in between; each preceded by the `typename` or `class` keyword. Here is an example class template `A` with a single type argument `T`. "
   ]
  },
  {
   "cell_type": "code",
   "execution_count": null,
   "metadata": {},
   "outputs": [],
   "source": [
    "template <typename T>\n",
    "class A{\n",
    "public:\n",
    "    A(T a): m(a){}\n",
    "    void show(){\n",
    "        cout << \"My number is: \" << m << endl;\n",
    "    }\n",
    "    ~A(){}\n",
    "private:\n",
    "    T m;\n",
    "};"
   ]
  },
  {
   "cell_type": "markdown",
   "metadata": {},
   "source": [
    "To create an object from a class template, we must provide the type between the angle brackets `<>` as you see here. In other words, the angle brackets `<>` are not optional as was the case with function templates.\n",
    "\n",
    "Here is a program with three different objects of this `A` class: one in the stack and two in the heap using the `new` operator. Because each of these objects has a different type, the compiler will create thee different actual classes from this class template: one for `int`, another for `double` and the last one for `string`."
   ]
  },
  {
   "cell_type": "code",
   "execution_count": null,
   "metadata": {
    "scrolled": true
   },
   "outputs": [],
   "source": [
    "A<int> a(56);\n",
    "a.show();\n",
    "\n",
    "A<double> *b = new A<double>(44.5);\n",
    "b->show();\n",
    "\n",
    "A<string> *c = new A<string>(\"James\");\n",
    "c->show();\n",
    "\n",
    "delete b, c;"
   ]
  },
  {
   "cell_type": "markdown",
   "metadata": {},
   "source": [
    "Here is another class template `BC` with two type arguments followed by two objects of this class."
   ]
  },
  {
   "cell_type": "code",
   "execution_count": null,
   "metadata": {},
   "outputs": [],
   "source": [
    "template <typename E, typename T>\n",
    "class BC{\n",
    "public:\n",
    "    BC(E b, T c): b(b), c(c){}\n",
    "    void print(){\n",
    "        cout << \"b: \" << b << \", \"\n",
    "             << \"c: \" << c << endl;\n",
    "    }\n",
    "    ~BC(){}\n",
    "private:\n",
    "    E b;\n",
    "    T c;\n",
    "};"
   ]
  },
  {
   "cell_type": "code",
   "execution_count": null,
   "metadata": {},
   "outputs": [],
   "source": [
    "BC<int, double> bc(10, 89.05);\n",
    "bc.print();\n",
    "\n",
    "BC<string, short> *bcptr = new BC<string, short>(\"Washington\", 10);\n",
    "bcptr->print();\n",
    "delete bcptr;"
   ]
  },
  {
   "cell_type": "markdown",
   "metadata": {},
   "source": [
    "### CODING CHALLENGE\n",
    "\n",
    "In code cell below, write a class template named `Pair` with two type arguments `K`and `V`.  This template is for grouping two values into a pair, which could be useful in data structures like maps and dictionaries, with the first value being the key and the second being the value or meaning. This class should have two private data members: one named `key` of the first type argument and the second named `value` of the second type argument. This class should have a two-argument constructor, a destructor, and the following four member functions (getters/setters):\n",
    "* `K getKey()` for returning the key the pair.\n",
    "* `void setKey(K k)` for setting the key of the pair to the passed argument.\n",
    "* `V getValue()` for returning the value the pair.\n",
    "* `void setValue(V v)` for setting the value of the pair to the passed argument.\n",
    "\n",
    "In the code cell after that, create four pair objects each with a different type combinations. Two of these objects should be in the stack and two in the heap (using the `new` operator). On each object call at least two of the member functions above."
   ]
  },
  {
   "cell_type": "code",
   "execution_count": null,
   "metadata": {},
   "outputs": [],
   "source": [
    "//TODO: class template goes here"
   ]
  },
  {
   "cell_type": "code",
   "execution_count": null,
   "metadata": {},
   "outputs": [],
   "source": [
    "//TODO: object definitions go here"
   ]
  },
  {
   "cell_type": "markdown",
   "metadata": {},
   "source": [
    "## Templates with constant type arguments\n",
    "Class templates can have constant type arguments. The template class `array` from the standard library, for example, requires two type arguments to create a static array: the type of the data in the array and size of the array. "
   ]
  },
  {
   "cell_type": "code",
   "execution_count": null,
   "metadata": {},
   "outputs": [],
   "source": [
    "#include <array>\n",
    "array<int, 2> vals = {11, 17};"
   ]
  },
  {
   "cell_type": "markdown",
   "metadata": {},
   "source": [
    "Here is an example of using constant type arguments to create our `OwnArray`. It has two constructors: a no-argument constructor and a one-argument constructor."
   ]
  },
  {
   "cell_type": "code",
   "execution_count": null,
   "metadata": {},
   "outputs": [],
   "source": [
    "template <typename T, unsigned short S> \n",
    "class OwnArray { \n",
    "private: \n",
    "    T *data; \n",
    "    int size; \n",
    "public: \n",
    "    OwnArray(): size(S), data(new T[S]){} \n",
    "    OwnArray(T *arr): OwnArray(){\n",
    "        for(int i = 0; i < size; i++){\n",
    "            data[i] = arr[i]; \n",
    "        } \n",
    "    } \n",
    "    void print(){\n",
    "        for (int i = 0; i < size; i++){\n",
    "            cout << \" \" << *(data + i); \n",
    "        }\n",
    "        cout << endl; \n",
    "    } \n",
    "    ~OwnArray(){\n",
    "        delete[] data;\n",
    "    }\n",
    "}; "
   ]
  },
  {
   "cell_type": "markdown",
   "metadata": {},
   "source": [
    "Notice how the one-argument constructor delegates the initialization of the `data` member to the no-argument constructor. Here is an example of using this class:"
   ]
  },
  {
   "cell_type": "code",
   "execution_count": null,
   "metadata": {},
   "outputs": [],
   "source": [
    "string arr[] = {\"mam\", \"ma\", \"mia\"};\n",
    "OwnArray<string, 3> oa(arr);\n",
    "oa.print();"
   ]
  },
  {
   "cell_type": "markdown",
   "metadata": {},
   "source": [
    "And like regular classes, we can separate the definition of class template from its implementation. To that we have to repeat the `template <...>` phrase in front of every constructor/function/destructor. Here is the same class template `OwnArray` with separate definition and implementation. "
   ]
  },
  {
   "cell_type": "code",
   "execution_count": null,
   "metadata": {},
   "outputs": [],
   "source": [
    "template <typename T, unsigned short S> \n",
    "class OwnArray2 { \n",
    "private: \n",
    "    T *data; \n",
    "    int size; \n",
    "public: \n",
    "    OwnArray2(); \n",
    "    OwnArray2(T *arr);\n",
    "    void print(); \n",
    "    ~OwnArray2();\n",
    "}; "
   ]
  },
  {
   "cell_type": "code",
   "execution_count": null,
   "metadata": {},
   "outputs": [],
   "source": [
    "template <typename T, unsigned short S>\n",
    "OwnArray2<T,S>::OwnArray2(): size(S), data(new T[S]){} "
   ]
  },
  {
   "cell_type": "code",
   "execution_count": null,
   "metadata": {},
   "outputs": [],
   "source": [
    "template <typename T, unsigned short S>\n",
    "OwnArray2<T,S>::OwnArray2(T *arr): OwnArray2(){\n",
    "    for(int i = 0; i < size; i++){\n",
    "        data[i] = arr[i]; \n",
    "    } \n",
    "} "
   ]
  },
  {
   "cell_type": "code",
   "execution_count": null,
   "metadata": {},
   "outputs": [],
   "source": [
    "template <typename T, unsigned short S>\n",
    "void OwnArray2<T,S>::print(){\n",
    "    for (int i = 0; i < size; i++){\n",
    "        cout << \" \" << *(data + i); \n",
    "    }\n",
    "    cout << endl; \n",
    "} "
   ]
  },
  {
   "cell_type": "code",
   "execution_count": null,
   "metadata": {},
   "outputs": [],
   "source": [
    "template <typename T, unsigned short S>\n",
    "OwnArray2<T,S>::~OwnArray2(){\n",
    "    delete[] data;\n",
    "}"
   ]
  },
  {
   "cell_type": "markdown",
   "metadata": {},
   "source": [
    "Here is an example of using his new class template."
   ]
  },
  {
   "cell_type": "code",
   "execution_count": null,
   "metadata": {},
   "outputs": [],
   "source": [
    "OwnArray2<string, 3> ob(arr);\n",
    "ob.print();"
   ]
  },
  {
   "cell_type": "markdown",
   "metadata": {},
   "source": [
    "To summarize, function and class templates are very powerful in eliminating code redundancy. They are necessary to implementing many of most commonly used classes in C++ including the vector class.\n",
    "\n",
    "\n",
    "### CODING CHALLENGE\n",
    "Refactor the following class template by separating its definition from its implementation.\n",
    "```c++\n",
    "template <typename T>\n",
    "class A{\n",
    "public:\n",
    "    A(T a): m(a){}\n",
    "    void show(){\n",
    "        cout << \"My number is: \" << m << endl;\n",
    "    }\n",
    "    ~A(){}\n",
    "private:\n",
    "    T m;\n",
    "};\n",
    "```"
   ]
  },
  {
   "cell_type": "code",
   "execution_count": null,
   "metadata": {},
   "outputs": [],
   "source": [
    "//TODO: class template definition goes here"
   ]
  },
  {
   "cell_type": "code",
   "execution_count": null,
   "metadata": {},
   "outputs": [],
   "source": [
    "//TODo: constructor implementation goes here"
   ]
  },
  {
   "cell_type": "code",
   "execution_count": null,
   "metadata": {},
   "outputs": [],
   "source": [
    "//TODo: show() implementation goes here"
   ]
  },
  {
   "cell_type": "code",
   "execution_count": null,
   "metadata": {},
   "outputs": [],
   "source": [
    "//TODo: destructor implementation goes here"
   ]
  }
 ],
 "metadata": {
  "kernelspec": {
   "display_name": "C++17",
   "language": "C++17",
   "name": "xcpp17"
  },
  "language_info": {
   "codemirror_mode": "text/x-c++src",
   "file_extension": ".cpp",
   "mimetype": "text/x-c++src",
   "name": "c++",
   "version": "-std=c++17"
  }
 },
 "nbformat": 4,
 "nbformat_minor": 2
}
