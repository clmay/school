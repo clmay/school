{
 "cells": [
  {
   "cell_type": "markdown",
   "metadata": {},
   "source": [
    "# Functions\n",
    "\n",
    "Functions are the bread and butter of programming. A function is named group of statements that achieves a certain task or produces a specific outcome. Here is the **definition** of a function that prints a a given `n` number of stars in the same line."
   ]
  },
  {
   "cell_type": "code",
   "execution_count": null,
   "metadata": {},
   "outputs": [],
   "source": [
    "#include <iostream>\n",
    "using namespace std;"
   ]
  },
  {
   "cell_type": "code",
   "execution_count": null,
   "metadata": {},
   "outputs": [],
   "source": [
    "void printStars(int n){\n",
    "  for(int i = 0; i < n; i++){\n",
    "    cout << '*';\n",
    "  }\n",
    "  cout << endl;\n",
    "}"
   ]
  },
  {
   "cell_type": "markdown",
   "metadata": {},
   "source": [
    "Now that we have this function, we can use it every time we want to print stars. For example:"
   ]
  },
  {
   "cell_type": "code",
   "execution_count": null,
   "metadata": {},
   "outputs": [],
   "source": [
    "printStars(69);\n",
    "printStars(37);\n",
    "printStars(5);\n",
    "printStars(45);"
   ]
  },
  {
   "cell_type": "markdown",
   "metadata": {},
   "source": [
    "## Function prototypes\n",
    "C++ distinguishes **function definitions** such as the above definition of the `printStars` function from **function prototypes**. A **function prototype** contains only:\n",
    "* the return type, \n",
    "* the name, \n",
    "* the parameter list, and\n",
    "* semicolon\n",
    "\n",
    "Function prototypes typically reside in header files (.h files); they introduce functions to the compiler and allow us to call functions before we define them.\n",
    "\n",
    "Here is the **prototype** of the **function definition** above."
   ]
  },
  {
   "cell_type": "code",
   "execution_count": null,
   "metadata": {},
   "outputs": [],
   "source": [
    "void printStars(int n);"
   ]
  },
  {
   "cell_type": "markdown",
   "metadata": {},
   "source": [
    "Here are two more example function definitions:"
   ]
  },
  {
   "cell_type": "code",
   "execution_count": null,
   "metadata": {},
   "outputs": [],
   "source": [
    "bool isOdd(int x){\n",
    "    return x % 2 != 0;\n",
    "}"
   ]
  },
  {
   "cell_type": "code",
   "execution_count": null,
   "metadata": {},
   "outputs": [],
   "source": [
    "bool isEven(int x){\n",
    "    return !isOdd(x);\n",
    "}"
   ]
  },
  {
   "cell_type": "markdown",
   "metadata": {},
   "source": [
    "Always remember that **a function that is supposed to return a value must contain a `return` statement**.\n",
    "\n",
    "### CODING CHALLENGE\n",
    "Write the **function prototypes** for the above two functions."
   ]
  },
  {
   "cell_type": "code",
   "execution_count": null,
   "metadata": {},
   "outputs": [],
   "source": [
    "// TODO\n",
    "bool isOdd(int x);\n",
    "bool isEven(int x);"
   ]
  },
  {
   "cell_type": "markdown",
   "metadata": {},
   "source": [
    "## Calling functions\n",
    "Functions have to be called. A function that is never called is useless. We call functions by their names followed by zero or more comma-separated argument list within parentheses `()`. Doing so transfers control from the calling program to the function itself. This control will return back to the calling program when the end of the function is reached or when a `return` statement is encountered. Here are example calls to the functions we defined earlier. These functions are being called to figure out the type of a given number."
   ]
  },
  {
   "cell_type": "code",
   "execution_count": null,
   "metadata": {},
   "outputs": [],
   "source": [
    "#include <iomanip>\n",
    "cout << setw(8) << \"Number\" << setw(6) << \"Odd?\"    << setw(7) << \"Even?\"    << endl;\n",
    "cout << setw(8) << 97       << setw(6) << isOdd(97) << setw(7) << isEven(97) << endl;\n",
    "cout << setw(8) << 34       << setw(6) << isOdd(34) << setw(7) << isEven(34) << endl;"
   ]
  },
  {
   "cell_type": "markdown",
   "metadata": {},
   "source": [
    "Another example function is one that will take two integers and return the integer that is the minimum of the two. Here is the prototype of such a function."
   ]
  },
  {
   "cell_type": "code",
   "execution_count": null,
   "metadata": {},
   "outputs": [],
   "source": [
    "int minimum(int x, int y);"
   ]
  },
  {
   "cell_type": "markdown",
   "metadata": {},
   "source": [
    "### CODING CHALLENGE\n",
    "In the below code cell, write the definition of the `minimum` function above. In the code cell next to that, write a `cout` statement that calls the `minimum` function to print which is minimum: 46, or 38"
   ]
  },
  {
   "cell_type": "code",
   "execution_count": null,
   "metadata": {},
   "outputs": [],
   "source": [
    "// TODO\n",
    "int minimum(int x, int y) {\n",
    "    return x < y ? x : y;\n",
    "}"
   ]
  },
  {
   "cell_type": "code",
   "execution_count": null,
   "metadata": {},
   "outputs": [],
   "source": [
    "cout << minimum(46, 38) << endl;"
   ]
  },
  {
   "cell_type": "markdown",
   "metadata": {},
   "source": [
    "Here is another example function for converting weights from pounds to kilograms, starting with the function prototype."
   ]
  },
  {
   "cell_type": "code",
   "execution_count": null,
   "metadata": {},
   "outputs": [],
   "source": [
    "double lbs2kgs(double);"
   ]
  },
  {
   "cell_type": "markdown",
   "metadata": {},
   "source": [
    "And here is this function's definition."
   ]
  },
  {
   "cell_type": "code",
   "execution_count": null,
   "metadata": {},
   "outputs": [],
   "source": [
    "double lbs2kgs(double pounds){\n",
    "  double kilograms =  0.453592 * pounds;\n",
    "  return kilograms;\n",
    "}"
   ]
  },
  {
   "cell_type": "markdown",
   "metadata": {},
   "source": [
    "Now we can call this function."
   ]
  },
  {
   "cell_type": "code",
   "execution_count": null,
   "metadata": {},
   "outputs": [],
   "source": [
    "double lbs, kgs;\n",
    "\n",
    "cout << \"Enter weight in pounds:\\n\"; cin >> lbs;\n",
    "kgs = lbs2kgs(lbs);\n",
    "cout << \"Weight in kilograms: \" << kgs << endl;"
   ]
  },
  {
   "cell_type": "markdown",
   "metadata": {},
   "source": [
    "### CODING CHALLENGE\n",
    "In the code cell below, write the prototype of a function named `kgs2lbs` that converts kilograms into pounds. In the next code cell after that, write the definition of this function. In the next code cell after that, write some c++ code that will test your `kgs2lbs` function just like we did in the example above."
   ]
  },
  {
   "cell_type": "code",
   "execution_count": null,
   "metadata": {},
   "outputs": [],
   "source": [
    "// TODO\n",
    "double kgsToLbs(double kgs);"
   ]
  },
  {
   "cell_type": "code",
   "execution_count": null,
   "metadata": {},
   "outputs": [],
   "source": [
    "// TODO\n",
    "double kgsToLbs(double kgs) {\n",
    "    return kgs * 2.2;\n",
    "}"
   ]
  },
  {
   "cell_type": "code",
   "execution_count": null,
   "metadata": {},
   "outputs": [],
   "source": [
    "// TODO\n",
    "cout << kgsToLbs(100.0) << endl;"
   ]
  },
  {
   "cell_type": "markdown",
   "metadata": {},
   "source": [
    "## Passing arguments to functions\n",
    "In C++, arguments can be passed to a function in one of three ways: \n",
    "1. **By value** which creates copies of the passed data and passes those copies to the function. This protects the original arguments from being changed inside the function.\n",
    "2. **By reference** which uses references to pass the original arguments to the function. These original arguments can now be changed inside the function.\n",
    "3. **By pointer** which is similar to **by reference** in passing the original arguments to the function but uses pointers instead. We will cover this when we study **pointers**.\n",
    "\n",
    "The functions above used passing by value. Here is another example of passing by value where a copy of the value of `n` is created and passed to the `incrementBy2` function."
   ]
  },
  {
   "cell_type": "code",
   "execution_count": null,
   "metadata": {},
   "outputs": [],
   "source": [
    "int incrementBy2(int n){\n",
    "  return ++(++n);\n",
    "}"
   ]
  },
  {
   "cell_type": "code",
   "execution_count": null,
   "metadata": {},
   "outputs": [],
   "source": [
    "int n = 15;\n",
    "\n",
    "cout << \"n = \" << n << endl;\n",
    "cout << \"n = \" << incrementBy2(n) << endl;\n",
    "cout << \"n = \" << n << endl;"
   ]
  },
  {
   "cell_type": "markdown",
   "metadata": {},
   "source": [
    "This function receives a copy of `n` which it increments twice but that does not affect the original `n`. \n",
    "\n",
    "To avoid copying big values when calling a function, **references** should be used.\n",
    "\n",
    "## Reference\n",
    "A reference is just another name or alias for a variable. We use the ampersand `&` operator to define references which takes the form:\n",
    "\n",
    "``` c++\n",
    "<datatype>& <alias> = <variable>;\n",
    "```\n",
    "\n",
    "References are meant to be a safer and better alternative to pointers. Once created, a reference cannot be made to reference another variable and cannot be `null`.\n",
    "\n",
    "For example: "
   ]
  },
  {
   "cell_type": "code",
   "execution_count": null,
   "metadata": {},
   "outputs": [],
   "source": [
    "int x = 9;\n",
    "int& y = x;"
   ]
  },
  {
   "cell_type": "markdown",
   "metadata": {},
   "source": [
    "`y` is a reference or another name for `x`.  That means `y` is pointing to the same location of memory as `x` and by changing `y`, `x` automatically changes."
   ]
  },
  {
   "cell_type": "code",
   "execution_count": null,
   "metadata": {},
   "outputs": [],
   "source": [
    "y = 17;\n",
    "cout << x << endl;"
   ]
  },
  {
   "cell_type": "markdown",
   "metadata": {},
   "source": [
    "Here is an example of passing arguments **by reference**. Notice the use of ampersands `&` after the arguments' datatypes."
   ]
  },
  {
   "cell_type": "code",
   "execution_count": null,
   "metadata": {},
   "outputs": [],
   "source": [
    "// Prototype\n",
    "void swapValues(int&, int&);"
   ]
  },
  {
   "cell_type": "code",
   "execution_count": null,
   "metadata": {},
   "outputs": [],
   "source": [
    "// Definition\n",
    "void swapValues(int& n, int& m){\n",
    "  int o = n;\n",
    "  n = m;\n",
    "  m = o;\n",
    "}"
   ]
  },
  {
   "cell_type": "code",
   "execution_count": null,
   "metadata": {},
   "outputs": [],
   "source": [
    "// Testing\n",
    "int a = 10;\n",
    "int b = 15;\n",
    "\n",
    "cout << \"a = \" << a << \", b = \" << b << endl;\n",
    "swapValues(a, b);\n",
    "cout << \"a = \" << a << \", b = \" << b << endl;"
   ]
  },
  {
   "cell_type": "markdown",
   "metadata": {},
   "source": [
    "## Overloaded functions\n",
    "C++ allows multiple functions to have the same name as long as their signatures are different or unique. In other words, functions can have the same name as long as they are different in either the kinds of arguments they take or the number of arguments they take. We call functions with the same name as others **overloaded functions**. \n",
    "\n",
    "Here are examples of overloaded functions where the only difference is in the kinds of their arguments. \n",
    "\n",
    "``` c++\n",
    "void swapValues(int&, int&);\n",
    "void swapValues(double&, double&);\n",
    "```\n",
    "\n",
    "And here are other overloaded functions taking different number of arguments.\n",
    "\n",
    "``` c++\n",
    "int findMax(int, int);\n",
    "int findMax(int, int, int);\n",
    "```\n",
    "\n",
    "### CODING CHALLENGE\n",
    "In the code cell below, define the following function.\n",
    "``` c++\n",
    "void swapValues(double&, double&);\n",
    "```\n",
    "\n",
    "In the next cell after that, test your function."
   ]
  },
  {
   "cell_type": "code",
   "execution_count": null,
   "metadata": {},
   "outputs": [],
   "source": [
    "// TODO\n",
    "void swapValues(double& m, double& n) {\n",
    "    double tmp = m;\n",
    "    m = n;\n",
    "    n = tmp;\n",
    "}"
   ]
  },
  {
   "cell_type": "code",
   "execution_count": null,
   "metadata": {},
   "outputs": [],
   "source": [
    "// TODO\n",
    "{\n",
    "    double a = 1.4;\n",
    "    double b = 9.16;\n",
    "\n",
    "    cout << \"a and b are: \" << a << \", \" << b << endl;\n",
    "    swapValues(a, b);\n",
    "    cout << \"a and b are now: \" << a << \", \" << b << endl;\n",
    "}"
   ]
  }
 ],
 "metadata": {
  "kernelspec": {
   "display_name": "C++17",
   "language": "C++17",
   "name": "xcpp17"
  },
  "language_info": {
   "codemirror_mode": "text/x-c++src",
   "file_extension": ".cpp",
   "mimetype": "text/x-c++src",
   "name": "c++",
   "version": "-std=c++17"
  }
 },
 "nbformat": 4,
 "nbformat_minor": 2
}
