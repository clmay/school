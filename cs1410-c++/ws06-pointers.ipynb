{
 "cells": [
  {
   "cell_type": "markdown",
   "metadata": {},
   "source": [
    "# Pointers\n",
    "\n",
    "One of the most powerful and low-level features of C++ is **pointers**, which were inherited from the C language. Put simply a pointer is a variable whose value is a memory address. This means that in C++ actual memory addresses are values that can be assigned to pointer variables. And once you have a memory address you can use it to read or write to the memory location it points to. "
   ]
  },
  {
   "cell_type": "code",
   "execution_count": null,
   "metadata": {},
   "outputs": [],
   "source": [
    "#include <iostream>\n",
    "#include <iomanip>\n",
    "#include <string>\n",
    "using namespace std;"
   ]
  },
  {
   "cell_type": "markdown",
   "metadata": {},
   "source": [
    "Given these variables:"
   ]
  },
  {
   "cell_type": "code",
   "execution_count": null,
   "metadata": {},
   "outputs": [],
   "source": [
    "int var1 = 11;\n",
    "int var2 = 22;\n",
    "int var3 = 33;\n",
    "double dvar = 45.78;"
   ]
  },
  {
   "cell_type": "markdown",
   "metadata": {},
   "source": [
    "We can obtain their memory addresses using the **address of operator** `&` like this:"
   ]
  },
  {
   "cell_type": "code",
   "execution_count": null,
   "metadata": {},
   "outputs": [],
   "source": [
    "cout << &var1 << endl\n",
    "     << &var2 << endl    \n",
    "     << &var3 << endl;"
   ]
  },
  {
   "cell_type": "markdown",
   "metadata": {},
   "source": [
    "We must not confuse the **address of operator** with references. Both use the ampersand character `&` but: \n",
    "* in the case of the **address of operator**, `&` comes in front of an already defined variable to get its memory address.\n",
    "* in the case of references, `&` follows the data type during the definition of a reference variable."
   ]
  },
  {
   "cell_type": "code",
   "execution_count": null,
   "metadata": {},
   "outputs": [],
   "source": [
    "int &ref = var1; // Reference\n",
    "cout << &var1 << endl; // Address of\n",
    "cout << ref << endl;"
   ]
  },
  {
   "cell_type": "markdown",
   "metadata": {},
   "source": [
    "As stated above, a pointer is a variable whose value is a memory address. We use the asterisk `*` operator to define pointers. For example:"
   ]
  },
  {
   "cell_type": "code",
   "execution_count": null,
   "metadata": {},
   "outputs": [],
   "source": [
    "int *iptr; // A pointer to a location that holds an integer\n",
    "double* dptr; // A pointer to a location that holds a double\n",
    "char * ptr; // A pointer to a location that holds a character"
   ]
  },
  {
   "cell_type": "markdown",
   "metadata": {},
   "source": [
    "The above pointers are not initialized yet. It’s extremely important that a pointer is initialized before it is used. That could happen by assigning the pointer the address of an existing variable using the **address of operator**. "
   ]
  },
  {
   "cell_type": "code",
   "execution_count": null,
   "metadata": {},
   "outputs": [],
   "source": [
    "iptr = &var1;\n",
    "dptr = &dvar;"
   ]
  },
  {
   "cell_type": "markdown",
   "metadata": {},
   "source": [
    "The general rule of thumb is that a pointer must always point to a valid memory location or is assigned the `nullptr` value. The above `ptr` pointer has nowhere to point to, so it should be initialized to `nullptr`."
   ]
  },
  {
   "cell_type": "code",
   "execution_count": null,
   "metadata": {},
   "outputs": [],
   "source": [
    "ptr = nullptr;"
   ]
  },
  {
   "cell_type": "markdown",
   "metadata": {},
   "source": [
    "The keyword `nullptr` was added by C++11 and it should be used instead of the C constant `NULL` you might see in legacy C++ code.\n",
    "\n",
    "Once we have a pointer, we can use the asterisk `*` as a **dereference operator** in front of the pointer to retrieve or change the actual value it points to. For example, having `cptr` point to `choice`, we can use `*cptr` to print and change the value of `choice`."
   ]
  },
  {
   "cell_type": "code",
   "execution_count": null,
   "metadata": {},
   "outputs": [],
   "source": [
    "char choice = 'A';\n",
    "char *cptr = &choice;\n",
    "\n",
    "cout << *cptr << endl;\n",
    "*cptr = 'Z';\n",
    "cout << choice;"
   ]
  },
  {
   "cell_type": "markdown",
   "metadata": {},
   "source": [
    "### CODING CHALLENGE\n",
    "Given the following variables:"
   ]
  },
  {
   "cell_type": "code",
   "execution_count": null,
   "metadata": {},
   "outputs": [],
   "source": [
    "string greeting = \"Good afternoon!\";\n",
    "short height = 39;\n",
    "double my_distance = 21.07;\n",
    "int my_count = 99; "
   ]
  },
  {
   "cell_type": "markdown",
   "metadata": {},
   "source": [
    "Define a pointer for each one of the above variables. Initialize each pointer to the memory address of its variable."
   ]
  },
  {
   "cell_type": "code",
   "execution_count": null,
   "metadata": {},
   "outputs": [],
   "source": [
    "//TODO\n",
    "string* strptr = &greeting;\n",
    "short* sptr = &height;\n",
    "double* my_dptr = &my_distance;\n",
    "int* my_iptr = &my_count;"
   ]
  },
  {
   "cell_type": "markdown",
   "metadata": {},
   "source": [
    "Using the pointers above and the **dereference operator** `*`, change the values of these variables to something else of your choosing"
   ]
  },
  {
   "cell_type": "code",
   "execution_count": null,
   "metadata": {},
   "outputs": [],
   "source": [
    "//TODO\n",
    "*strptr = \"Good evening!\";\n",
    "*sptr = 2;\n",
    "*my_dptr = 18.03;\n",
    "*my_iptr = 1;"
   ]
  },
  {
   "cell_type": "markdown",
   "metadata": {},
   "source": [
    "You might ask why we need pointers if we can use variables instead to read and write to memory. The answer to that is:\n",
    "* Variables are good when you know how much memory your program needs ahead of time, but most often we don't know that, and we need the ability to request memory from the operating system dynamically. Pointers are the only way to do that. \n",
    "* Pointers are critical to implementing certain C++ facilities like arrays.\n",
    "* Pointers can be used for passing arguments to functions."
   ]
  },
  {
   "cell_type": "markdown",
   "metadata": {},
   "source": [
    "## Array names as constant pointers\n",
    "One of C++ facilities implemented using pointers is arrays. In fact, an array is simply a pointer to its first element. Here is an array named `primes` along with a `for` loop to iterate over and print its elements."
   ]
  },
  {
   "cell_type": "code",
   "execution_count": null,
   "metadata": {},
   "outputs": [],
   "source": [
    "int primes[] = {2, 3, 5, 7};\n",
    "for(int i = 0; i < 4; i++){\n",
    "    cout << primes[i] << endl;\n",
    "}"
   ]
  },
  {
   "cell_type": "markdown",
   "metadata": {},
   "source": [
    "Here the array name `primes` points to the first element of the array, which is the element at index 0, `primes + 1` (which means the next memory location) points to the second element in the array, `primes + 2` to the third and so on. \n",
    "\n",
    "Here is another `for` loop that takes advantage of this fact and prints the elements of this array along with their memory locations. Notice the use of the **dereference operator** `*` to print the actual values."
   ]
  },
  {
   "cell_type": "code",
   "execution_count": null,
   "metadata": {},
   "outputs": [],
   "source": [
    "cout << setw(12)<< \"LOCATION\" << setw(8) << \"VALUE\" << endl;\n",
    "for(int i = 0; i < 4; i++){\n",
    "   cout <<  setw(12)<< (primes + i) << setw(8) << *(primes + i) << endl;\n",
    " }"
   ]
  },
  {
   "cell_type": "markdown",
   "metadata": {},
   "source": [
    "Array names are, however, constant pointers which means that, unlike other pointers, they cannot be changed to point to something else. For example, we cannot re-point `primes` to another location. The compiler forbids it."
   ]
  },
  {
   "cell_type": "code",
   "execution_count": null,
   "metadata": {},
   "outputs": [],
   "source": [
    "// primes = &var1;"
   ]
  },
  {
   "cell_type": "markdown",
   "metadata": {},
   "source": [
    "### CODING CHALLENGE\n",
    "Utah has the following counties:\n",
    "\n",
    "    Beaver\n",
    "    Box Elder\n",
    "    Cache\n",
    "    Carbon\n",
    "    Daggett\n",
    "    Davis\n",
    "    Duchesne\n",
    "    Emery\n",
    "    Garfield\n",
    "    Grand\n",
    "    Iron\n",
    "    Juab\n",
    "    Kane\n",
    "    Millard\n",
    "    Morgan\n",
    "    Piute\n",
    "    Rich\n",
    "    Salt Lake\n",
    "    San Juan\n",
    "    Sanpete\n",
    "    Sevier\n",
    "    Summit\n",
    "    Tooele\n",
    "    Uintah\n",
    "    Utah\n",
    "    Wasatch\n",
    "    Washington\n",
    "    Wayne\n",
    "    Weber\n",
    " \n",
    "Define an array named `utahCounties` and initialize it to these counties. Use a `for` loop to display these counties side by side with their memory locations."
   ]
  },
  {
   "cell_type": "code",
   "execution_count": null,
   "metadata": {},
   "outputs": [],
   "source": [
    "//TODO\n",
    "{\n",
    "    string utahCounties[] = {\n",
    "        \"Beaver\",\n",
    "        \"Box Elder\",\n",
    "        \"Cache\",\n",
    "        \"Carbon\",\n",
    "        \"Daggett\",\n",
    "        \"Davis\",\n",
    "        \"Duchesne\",\n",
    "        \"Emery\",\n",
    "        \"Garfield\",\n",
    "        \"Grand\",\n",
    "        \"Iron\",\n",
    "        \"Juab\",\n",
    "        \"Kane\",\n",
    "        \"Millard\",\n",
    "        \"Morgan\",\n",
    "        \"Piute\",\n",
    "        \"Rich\",\n",
    "        \"Salt Lake\",\n",
    "        \"San Juan\",\n",
    "        \"Sanpete\",\n",
    "        \"Sevier\",\n",
    "        \"Summit\",\n",
    "        \"Tooele\",\n",
    "        \"Uintah\",\n",
    "        \"Utah\",\n",
    "        \"Wasatch\",\n",
    "        \"Washington\",\n",
    "        \"Wayne\",\n",
    "        \"Weber\"\n",
    "    };\n",
    "\n",
    "    for (int i = 0; i < (sizeof(utahCounties) / sizeof(*utahCounties)); i++) {\n",
    "        cout << utahCounties[i] << endl;\n",
    "    }\n",
    "}"
   ]
  },
  {
   "cell_type": "markdown",
   "metadata": {},
   "source": [
    "## Passing arguments by pointer\n",
    "Pointers are also used to efficiently pass large data to functions. Functions with pointer parameters such as the `centimizeByPtr` function here is said to be **passing arguments by pointer**. This is similar to passing by reference in the sense that the original value is accessible from the function and if the function changes that value, that change is seen by the calling program. Here is an example with the three ways of passing arguments to functions side by side: \n",
    "* by value, \n",
    "* by reference, and \n",
    "* by pointer."
   ]
  },
  {
   "cell_type": "code",
   "execution_count": null,
   "metadata": {
    "scrolled": true
   },
   "outputs": [],
   "source": [
    "double centimizeByVal(double len){ \n",
    "    return len * 2.54; \n",
    "}"
   ]
  },
  {
   "cell_type": "code",
   "execution_count": null,
   "metadata": {},
   "outputs": [],
   "source": [
    "void centimizeByRef(double& len){ \n",
    "    len = len * 2.54; \n",
    "}"
   ]
  },
  {
   "cell_type": "code",
   "execution_count": null,
   "metadata": {},
   "outputs": [],
   "source": [
    "void centimizeByPtr(double* len){ \n",
    "    *len = *len * 2.54; \n",
    "}"
   ]
  },
  {
   "cell_type": "markdown",
   "metadata": {},
   "source": [
    "Here is an example of using these functions:"
   ]
  },
  {
   "cell_type": "code",
   "execution_count": null,
   "metadata": {},
   "outputs": [],
   "source": [
    "double n = 11;\n",
    "cout << n << endl;\n",
    "cout << centimizeByVal(n) << endl << n << \"\\n\\n\";\n",
    "\n",
    "centimizeByRef(n);\n",
    "cout << n << endl;\n",
    "\n",
    "n = 12; cout << \"\\n\" << n << endl;\n",
    "centimizeByPtr(&n);\n",
    "cout << n << endl;"
   ]
  },
  {
   "cell_type": "markdown",
   "metadata": {},
   "source": [
    "The rule of thumb here is to use:\n",
    "* passing by value for simple arguments (integers, characters, booleans, floats, and doubles)\n",
    "* passing by pointer for arrays. Remember: array names are themselves pointers.\n",
    "* passing by reference or by pointer for complex arguments (strings, objects, structures, and so on)\n",
    "* and given a choice between by reference and by pointer, choose by reference because references are safer that pointers."
   ]
  },
  {
   "cell_type": "markdown",
   "metadata": {},
   "source": [
    "### CODING CHALLENGE\n",
    "In the code cell below, define the following function.\n",
    "``` c++\n",
    "void swapValues(double*, double*);\n",
    "```\n",
    "\n",
    "In the cell after that, test your function."
   ]
  },
  {
   "cell_type": "code",
   "execution_count": null,
   "metadata": {},
   "outputs": [],
   "source": [
    "//TODO: definition\n",
    "void swapValues(double* l, double* r) {\n",
    "    double tmp = *l;\n",
    "    *l = *r;\n",
    "    *r = tmp;\n",
    "}"
   ]
  },
  {
   "cell_type": "code",
   "execution_count": null,
   "metadata": {},
   "outputs": [],
   "source": [
    "//TODO: testing\n",
    "double lval = 20.1;\n",
    "double rval = 10.2;\n",
    "\n",
    "double* ltest = &lval;\n",
    "double* rtest = &rval;\n",
    "\n",
    "swapValues(ltest, rtest);\n",
    "\n",
    "cout << \"left = \" << *ltest << \", right = \" << *rtest << endl;"
   ]
  },
  {
   "cell_type": "markdown",
   "metadata": {},
   "source": [
    "Here is an example of passing an array to a function by pointer. Notice how the function `swapValues2` is defined to receive a pointer but is passed an array during testing."
   ]
  },
  {
   "cell_type": "code",
   "execution_count": null,
   "metadata": {},
   "outputs": [],
   "source": [
    "// Definition\n",
    "void swapValues2(int* ptr){\n",
    " int temp = *ptr;\n",
    " *ptr = *(ptr + 1);\n",
    " *(ptr + 1) = temp;\n",
    "}"
   ]
  },
  {
   "cell_type": "code",
   "execution_count": null,
   "metadata": {},
   "outputs": [],
   "source": [
    "// Testing\n",
    "int vals[] = {11, 17};\n",
    "\n",
    "cout << \"Initially:\" << endl;\n",
    "cout << *vals << \", \" << *(vals + 1) << endl;\n",
    "\n",
    "swapValues2(vals);\n",
    "cout << \"After swapValues2:\" << endl;\n",
    "cout << *vals << \", \" << *(vals + 1) << endl;"
   ]
  },
  {
   "cell_type": "markdown",
   "metadata": {},
   "source": [
    "## Memory management\n",
    "When a program is loaded into memory, that memory is organized into three segments: \n",
    "* the text segment is where the actual executable program code is loaded,\n",
    "* the stack segment is where local variables are allocated, and\n",
    "* finally the heap segment, where global variables and dynamic memory are allocated.\n",
    "\n",
    "And all the variables we've seen so far have been local variables created inside functions, whether it's the main function or other functions. These variables are known to the compiler before the program runs and are allocated in the stack segment. Stack variables are limited by the fact that the sizes of their memory footprints must be known before the program runs. They, however, have the advantage of automatic memory management which means we don't need to worry about cleaning up after them.\n",
    "\n",
    "Here are some examples of stack variables."
   ]
  },
  {
   "cell_type": "code",
   "execution_count": null,
   "metadata": {},
   "outputs": [],
   "source": [
    "#include <vector>\n",
    "int xvar;\n",
    "string str = \"Good morning!\";\n",
    "double scores[100];\n",
    "vector<char> choices;"
   ]
  },
  {
   "cell_type": "markdown",
   "metadata": {},
   "source": [
    "But often it is not easy, or even possible, for a program to know how much memory it will need before it runs. These programs require the ability to request memory dynamically at run-time. C++ gives us the keyword `new` to do that. This **new operator** allocates memory dynamically by requesting it from the operating system and returns a pointer to it.\n",
    "\n",
    "However, these dynamically allocated memory locations are not automatically returned to the operating system when the program is done with them. It's up to us the programmers to do that or risk leaking memory. For cleaning up after these dynamically allocated memory locations, C++ provides us with the keyword `delete`. \n",
    "\n",
    "Here is an example of dynamically allocating memory for a double variable using the `new` operator and returning it back to the operating system using the `delete` operator."
   ]
  },
  {
   "cell_type": "code",
   "execution_count": null,
   "metadata": {},
   "outputs": [],
   "source": [
    "double* score = new double;\n",
    "\n",
    "cout << \"Enter score:\" << endl;\n",
    "cin >> *score;\n",
    "\n",
    "cout << \"The entered score is \" << *score << \" is stored at \" << score << endl;\n",
    "\n",
    "// Cleaning after score\n",
    "delete score;"
   ]
  },
  {
   "cell_type": "markdown",
   "metadata": {},
   "source": [
    "The above example uses the `new` and `delete` operators to allocates and clean up after a single value. What if we want a big memory chunk that accommodates an array of values? Well, C++ provides the `new[]` and `delete[]` operators for that. Here is an example of allocating memory for 5 integers, reading the values of those integers from the keyboard, printing them, and finally returning their allocated memory back to the operating system."
   ]
  },
  {
   "cell_type": "code",
   "execution_count": null,
   "metadata": {
    "scrolled": true
   },
   "outputs": [],
   "source": [
    "int *numbers = new int[5];\n",
    "\n",
    "for(int i = 0; i < 5; i++){\n",
    "    cout << \"Enter number \"<< i + 1 << \": \";\n",
    "    cin >> numbers[i];\n",
    "}\n",
    "\n",
    "cout << setw(8) << \"INDEX\" << setw(10) << \"NUMBER\" << endl;\n",
    "for(int i = 0; i < 5; i++){\n",
    "    cout << setw(8) << i << setw(10) << numbers[i] << endl;\n",
    "}\n",
    "// Clean after numbers; return them to the OS\n",
    "delete[] numbers;"
   ]
  },
  {
   "cell_type": "markdown",
   "metadata": {},
   "source": [
    "And once an object or array is deleted, it's considered trash and must not be used again.\n",
    "\n",
    "### CODING CHALLENGE\n",
    "Define a float pointer and use the `new` operator to allocate memory for it. Prompt the user to enter a value for it and print the entered value. When done clean up after it using the `delete` operator."
   ]
  },
  {
   "cell_type": "code",
   "execution_count": null,
   "metadata": {},
   "outputs": [],
   "source": [
    "//TODO\n",
    "{\n",
    "    float* more_vals = new float[3];\n",
    "\n",
    "    for (int i = 0; i < 3; i++) {\n",
    "        cout << \"Enter a value: \";\n",
    "        cin >> more_vals[i];\n",
    "    }\n",
    "\n",
    "    cout << endl;\n",
    "\n",
    "    for (int i = 0; i < 3; i++) {\n",
    "        cout << more_vals[i] << endl;\n",
    "    }\n",
    "\n",
    "    delete[] more_vals;\n",
    "}"
   ]
  },
  {
   "cell_type": "markdown",
   "metadata": {},
   "source": [
    "## The arrow `->` operator\n",
    "\n",
    "The above `new`, `new[]`, `delete`, and `delete[]` operators work the same for structures and classes. For example, given the following structure:"
   ]
  },
  {
   "cell_type": "code",
   "execution_count": null,
   "metadata": {},
   "outputs": [],
   "source": [
    "struct Time {\n",
    "    int hrs;\n",
    "    int min;\n",
    "    int sec; \n",
    "};"
   ]
  },
  {
   "cell_type": "markdown",
   "metadata": {},
   "source": [
    "We can create a dynamically allocated structure object using the `new` operator like this."
   ]
  },
  {
   "cell_type": "code",
   "execution_count": null,
   "metadata": {},
   "outputs": [],
   "source": [
    "Time *t = new Time;"
   ]
  },
  {
   "cell_type": "markdown",
   "metadata": {},
   "source": [
    "And because `t` is a pointer, we can use the **dereference operator** `*` to access the actual structure object and make changes to it."
   ]
  },
  {
   "cell_type": "code",
   "execution_count": null,
   "metadata": {},
   "outputs": [],
   "source": [
    "(*t).hrs = 11;\n",
    "(*t).min = 45;\n",
    "(*t).sec = 17;\n",
    "\n",
    "cout << (*t).hrs << \":\" << (*t).min << \":\" << (*t).sec << endl;"
   ]
  },
  {
   "cell_type": "markdown",
   "metadata": {},
   "source": [
    "But having to keep typing `(*t)` every time we want to access the structure value is too much. So C++ provides a better alternative called the arrow `->` operator which allows us to rewrite the above code as:"
   ]
  },
  {
   "cell_type": "code",
   "execution_count": null,
   "metadata": {},
   "outputs": [],
   "source": [
    "t->hrs = 11;\n",
    "t->min = 45;\n",
    "t->sec = 17;\n",
    "\n",
    "cout << t->hrs << \":\" << t->min << \":\" << t->sec << endl;"
   ]
  },
  {
   "cell_type": "markdown",
   "metadata": {},
   "source": [
    "which is much cleaner. Just remember that the arrow `->` can only be used after pointers to structure and/or class objects.\n",
    "\n",
    "To return the allocated memory back to the operating system we run:"
   ]
  },
  {
   "cell_type": "code",
   "execution_count": null,
   "metadata": {},
   "outputs": [],
   "source": [
    "delete t;"
   ]
  },
  {
   "cell_type": "markdown",
   "metadata": {},
   "source": [
    "### CODING CHALLENGE\n",
    "\n",
    "Use the above `Time` structure to define and dynamically allocate memory for an array of 10 times. After that return the allocated memory back to the operating system"
   ]
  },
  {
   "cell_type": "code",
   "execution_count": null,
   "metadata": {},
   "outputs": [],
   "source": [
    "//TODO\n",
    "Time* times = new Time[10];\n",
    "delete[] times;"
   ]
  }
 ],
 "metadata": {
  "kernelspec": {
   "display_name": "C++17",
   "language": "C++17",
   "name": "xcpp17"
  },
  "language_info": {
   "codemirror_mode": "text/x-c++src",
   "file_extension": ".cpp",
   "mimetype": "text/x-c++src",
   "name": "c++",
   "version": "-std=c++17"
  }
 },
 "nbformat": 4,
 "nbformat_minor": 2
}
